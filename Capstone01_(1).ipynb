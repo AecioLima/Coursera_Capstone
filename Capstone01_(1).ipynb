{
  "nbformat": 4,
  "nbformat_minor": 0,
  "metadata": {
    "kernelspec": {
      "display_name": "Python 3",
      "language": "python",
      "name": "python3"
    },
    "language_info": {
      "codemirror_mode": {
        "name": "ipython",
        "version": 3
      },
      "file_extension": ".py",
      "mimetype": "text/x-python",
      "name": "python",
      "nbconvert_exporter": "python",
      "pygments_lexer": "ipython3",
      "version": "3.7.6"
    },
    "colab": {
      "name": "Capstone01 (1).ipynb",
      "provenance": [],
      "collapsed_sections": [],
      "include_colab_link": true
    }
  },
  "cells": [
    {
      "cell_type": "markdown",
      "metadata": {
        "id": "view-in-github",
        "colab_type": "text"
      },
      "source": [
        "<a href=\"https://colab.research.google.com/github/AecioLima/Coursera_Capstone/blob/master/Capstone01_(1).ipynb\" target=\"_parent\"><img src=\"https://colab.research.google.com/assets/colab-badge.svg\" alt=\"Open In Colab\"/></a>"
      ]
    },
    {
      "cell_type": "markdown",
      "metadata": {
        "id": "ROvYnevLZ0bd",
        "colab_type": "text"
      },
      "source": [
        "# Data Science IBM Capstone Project"
      ]
    },
    {
      "cell_type": "markdown",
      "metadata": {
        "id": "1MibWE9UZ0bg",
        "colab_type": "text"
      },
      "source": [
        "### Atualizando o pip install e instalando o Tabulate"
      ]
    },
    {
      "cell_type": "code",
      "metadata": {
        "id": "Yp4q1YCoZ0bi",
        "colab_type": "code",
        "colab": {
          "base_uri": "https://localhost:8080/",
          "height": 170
        },
        "outputId": "6bb1e92a-62f9-4446-9863-1915406f9a97"
      },
      "source": [
        "!pip install --upgrade pip\n",
        "!pip install -q tabulate\n",
        "print('ok')"
      ],
      "execution_count": 1,
      "outputs": [
        {
          "output_type": "stream",
          "text": [
            "Collecting pip\n",
            "\u001b[?25l  Downloading https://files.pythonhosted.org/packages/43/84/23ed6a1796480a6f1a2d38f2802901d078266bda38388954d01d3f2e821d/pip-20.1.1-py2.py3-none-any.whl (1.5MB)\n",
            "\u001b[K     |████████████████████████████████| 1.5MB 4.8MB/s \n",
            "\u001b[?25hInstalling collected packages: pip\n",
            "  Found existing installation: pip 19.3.1\n",
            "    Uninstalling pip-19.3.1:\n",
            "      Successfully uninstalled pip-19.3.1\n",
            "Successfully installed pip-20.1.1\n",
            "ok\n"
          ],
          "name": "stdout"
        }
      ]
    },
    {
      "cell_type": "markdown",
      "metadata": {
        "id": "0zgiS_X1Z0bu",
        "colab_type": "text"
      },
      "source": [
        "#### Importando as bibliotecas"
      ]
    },
    {
      "cell_type": "code",
      "metadata": {
        "id": "E-I3rcCgZ0bw",
        "colab_type": "code",
        "colab": {}
      },
      "source": [
        "import pandas as pd\n",
        "import requests\n",
        "from bs4 import BeautifulSoup \n",
        "from tabulate import tabulate"
      ],
      "execution_count": 0,
      "outputs": []
    },
    {
      "cell_type": "markdown",
      "metadata": {
        "id": "7Vtjv3fQZ0b5",
        "colab_type": "text"
      },
      "source": [
        "#### Fazendo o web scraping e usando o tabulate para visualização"
      ]
    },
    {
      "cell_type": "code",
      "metadata": {
        "id": "xfszBo2JZ0b6",
        "colab_type": "code",
        "colab": {
          "base_uri": "https://localhost:8080/",
          "height": 1000
        },
        "outputId": "39577e36-72f2-45ac-b981-9a7d87632233"
      },
      "source": [
        "res = requests.get(\"https://en.wikipedia.org/wiki/List_of_postal_codes_of_Canada:_M\")\n",
        "soup = BeautifulSoup(res.content,'lxml')\n",
        "table = soup.find_all('table')[0] \n",
        "df = pd.read_html(str(table))\n",
        "print( tabulate(df[0], headers='keys', tablefmt='psql') )"
      ],
      "execution_count": 3,
      "outputs": [
        {
          "output_type": "stream",
          "text": [
            "+-----+---------------+------------------+----------------------------------------------------------------------------------------------------------------------------------------+\n",
            "|     | Postal Code   | Borough          | Neighborhood                                                                                                                           |\n",
            "|-----+---------------+------------------+----------------------------------------------------------------------------------------------------------------------------------------|\n",
            "|   0 | M1A           | Not assigned     | nan                                                                                                                                    |\n",
            "|   1 | M2A           | Not assigned     | nan                                                                                                                                    |\n",
            "|   2 | M3A           | North York       | Parkwoods                                                                                                                              |\n",
            "|   3 | M4A           | North York       | Victoria Village                                                                                                                       |\n",
            "|   4 | M5A           | Downtown Toronto | Regent Park, Harbourfront                                                                                                              |\n",
            "|   5 | M6A           | North York       | Lawrence Manor, Lawrence Heights                                                                                                       |\n",
            "|   6 | M7A           | Downtown Toronto | Queen's Park, Ontario Provincial Government                                                                                            |\n",
            "|   7 | M8A           | Not assigned     | nan                                                                                                                                    |\n",
            "|   8 | M9A           | Etobicoke        | Islington Avenue                                                                                                                       |\n",
            "|   9 | M1B           | Scarborough      | Malvern, Rouge                                                                                                                         |\n",
            "|  10 | M2B           | Not assigned     | nan                                                                                                                                    |\n",
            "|  11 | M3B           | North York       | Don Mills                                                                                                                              |\n",
            "|  12 | M4B           | East York        | Parkview Hill, Woodbine Gardens                                                                                                        |\n",
            "|  13 | M5B           | Downtown Toronto | Garden District, Ryerson                                                                                                               |\n",
            "|  14 | M6B           | North York       | Glencairn                                                                                                                              |\n",
            "|  15 | M7B           | Not assigned     | nan                                                                                                                                    |\n",
            "|  16 | M8B           | Not assigned     | nan                                                                                                                                    |\n",
            "|  17 | M9B           | Etobicoke        | West Deane Park, Princess Gardens, Martin Grove, Islington, Cloverdale                                                                 |\n",
            "|  18 | M1C           | Scarborough      | Rouge Hill, Port Union, Highland Creek                                                                                                 |\n",
            "|  19 | M2C           | Not assigned     | nan                                                                                                                                    |\n",
            "|  20 | M3C           | North York       | Don Mills                                                                                                                              |\n",
            "|  21 | M4C           | East York        | Woodbine Heights                                                                                                                       |\n",
            "|  22 | M5C           | Downtown Toronto | St. James Town                                                                                                                         |\n",
            "|  23 | M6C           | York             | Humewood-Cedarvale                                                                                                                     |\n",
            "|  24 | M7C           | Not assigned     | nan                                                                                                                                    |\n",
            "|  25 | M8C           | Not assigned     | nan                                                                                                                                    |\n",
            "|  26 | M9C           | Etobicoke        | Eringate, Bloordale Gardens, Old Burnhamthorpe, Markland Wood                                                                          |\n",
            "|  27 | M1E           | Scarborough      | Guildwood, Morningside, West Hill                                                                                                      |\n",
            "|  28 | M2E           | Not assigned     | nan                                                                                                                                    |\n",
            "|  29 | M3E           | Not assigned     | nan                                                                                                                                    |\n",
            "|  30 | M4E           | East Toronto     | The Beaches                                                                                                                            |\n",
            "|  31 | M5E           | Downtown Toronto | Berczy Park                                                                                                                            |\n",
            "|  32 | M6E           | York             | Caledonia-Fairbanks                                                                                                                    |\n",
            "|  33 | M7E           | Not assigned     | nan                                                                                                                                    |\n",
            "|  34 | M8E           | Not assigned     | nan                                                                                                                                    |\n",
            "|  35 | M9E           | Not assigned     | nan                                                                                                                                    |\n",
            "|  36 | M1G           | Scarborough      | Woburn                                                                                                                                 |\n",
            "|  37 | M2G           | Not assigned     | nan                                                                                                                                    |\n",
            "|  38 | M3G           | Not assigned     | nan                                                                                                                                    |\n",
            "|  39 | M4G           | East York        | Leaside                                                                                                                                |\n",
            "|  40 | M5G           | Downtown Toronto | Central Bay Street                                                                                                                     |\n",
            "|  41 | M6G           | Downtown Toronto | Christie                                                                                                                               |\n",
            "|  42 | M7G           | Not assigned     | nan                                                                                                                                    |\n",
            "|  43 | M8G           | Not assigned     | nan                                                                                                                                    |\n",
            "|  44 | M9G           | Not assigned     | nan                                                                                                                                    |\n",
            "|  45 | M1H           | Scarborough      | Cedarbrae                                                                                                                              |\n",
            "|  46 | M2H           | North York       | Hillcrest Village                                                                                                                      |\n",
            "|  47 | M3H           | North York       | Bathurst Manor, Wilson Heights, Downsview North                                                                                        |\n",
            "|  48 | M4H           | East York        | Thorncliffe Park                                                                                                                       |\n",
            "|  49 | M5H           | Downtown Toronto | Richmond, Adelaide, King                                                                                                               |\n",
            "|  50 | M6H           | West Toronto     | Dufferin, Dovercourt Village                                                                                                           |\n",
            "|  51 | M7H           | Not assigned     | nan                                                                                                                                    |\n",
            "|  52 | M8H           | Not assigned     | nan                                                                                                                                    |\n",
            "|  53 | M9H           | Not assigned     | nan                                                                                                                                    |\n",
            "|  54 | M1J           | Scarborough      | Scarborough Village                                                                                                                    |\n",
            "|  55 | M2J           | North York       | Fairview, Henry Farm, Oriole                                                                                                           |\n",
            "|  56 | M3J           | North York       | Northwood Park, York University                                                                                                        |\n",
            "|  57 | M4J           | East York        | East Toronto                                                                                                                           |\n",
            "|  58 | M5J           | Downtown Toronto | Harbourfront East, Union Station, Toronto Islands                                                                                      |\n",
            "|  59 | M6J           | West Toronto     | Little Portugal, Trinity                                                                                                               |\n",
            "|  60 | M7J           | Not assigned     | nan                                                                                                                                    |\n",
            "|  61 | M8J           | Not assigned     | nan                                                                                                                                    |\n",
            "|  62 | M9J           | Not assigned     | nan                                                                                                                                    |\n",
            "|  63 | M1K           | Scarborough      | Kennedy Park, Ionview, East Birchmount Park                                                                                            |\n",
            "|  64 | M2K           | North York       | Bayview Village                                                                                                                        |\n",
            "|  65 | M3K           | North York       | Downsview                                                                                                                              |\n",
            "|  66 | M4K           | East Toronto     | The Danforth West, Riverdale                                                                                                           |\n",
            "|  67 | M5K           | Downtown Toronto | Toronto Dominion Centre, Design Exchange                                                                                               |\n",
            "|  68 | M6K           | West Toronto     | Brockton, Parkdale Village, Exhibition Place                                                                                           |\n",
            "|  69 | M7K           | Not assigned     | nan                                                                                                                                    |\n",
            "|  70 | M8K           | Not assigned     | nan                                                                                                                                    |\n",
            "|  71 | M9K           | Not assigned     | nan                                                                                                                                    |\n",
            "|  72 | M1L           | Scarborough      | Golden Mile, Clairlea, Oakridge                                                                                                        |\n",
            "|  73 | M2L           | North York       | York Mills, Silver Hills                                                                                                               |\n",
            "|  74 | M3L           | North York       | Downsview                                                                                                                              |\n",
            "|  75 | M4L           | East Toronto     | India Bazaar, The Beaches West                                                                                                         |\n",
            "|  76 | M5L           | Downtown Toronto | Commerce Court, Victoria Hotel                                                                                                         |\n",
            "|  77 | M6L           | North York       | North Park, Maple Leaf Park, Upwood Park                                                                                               |\n",
            "|  78 | M7L           | Not assigned     | nan                                                                                                                                    |\n",
            "|  79 | M8L           | Not assigned     | nan                                                                                                                                    |\n",
            "|  80 | M9L           | North York       | Humber Summit                                                                                                                          |\n",
            "|  81 | M1M           | Scarborough      | Cliffside, Cliffcrest, Scarborough Village West                                                                                        |\n",
            "|  82 | M2M           | North York       | Willowdale, Newtonbrook                                                                                                                |\n",
            "|  83 | M3M           | North York       | Downsview                                                                                                                              |\n",
            "|  84 | M4M           | East Toronto     | Studio District                                                                                                                        |\n",
            "|  85 | M5M           | North York       | Bedford Park, Lawrence Manor East                                                                                                      |\n",
            "|  86 | M6M           | York             | Del Ray, Mount Dennis, Keelsdale and Silverthorn                                                                                       |\n",
            "|  87 | M7M           | Not assigned     | nan                                                                                                                                    |\n",
            "|  88 | M8M           | Not assigned     | nan                                                                                                                                    |\n",
            "|  89 | M9M           | North York       | Humberlea, Emery                                                                                                                       |\n",
            "|  90 | M1N           | Scarborough      | Birch Cliff, Cliffside West                                                                                                            |\n",
            "|  91 | M2N           | North York       | Willowdale                                                                                                                             |\n",
            "|  92 | M3N           | North York       | Downsview                                                                                                                              |\n",
            "|  93 | M4N           | Central Toronto  | Lawrence Park                                                                                                                          |\n",
            "|  94 | M5N           | Central Toronto  | Roselawn                                                                                                                               |\n",
            "|  95 | M6N           | York             | Runnymede, The Junction North                                                                                                          |\n",
            "|  96 | M7N           | Not assigned     | nan                                                                                                                                    |\n",
            "|  97 | M8N           | Not assigned     | nan                                                                                                                                    |\n",
            "|  98 | M9N           | York             | Weston                                                                                                                                 |\n",
            "|  99 | M1P           | Scarborough      | Dorset Park, Wexford Heights, Scarborough Town Centre                                                                                  |\n",
            "| 100 | M2P           | North York       | York Mills West                                                                                                                        |\n",
            "| 101 | M3P           | Not assigned     | nan                                                                                                                                    |\n",
            "| 102 | M4P           | Central Toronto  | Davisville North                                                                                                                       |\n",
            "| 103 | M5P           | Central Toronto  | Forest Hill North & West                                                                                                               |\n",
            "| 104 | M6P           | West Toronto     | High Park, The Junction South                                                                                                          |\n",
            "| 105 | M7P           | Not assigned     | nan                                                                                                                                    |\n",
            "| 106 | M8P           | Not assigned     | nan                                                                                                                                    |\n",
            "| 107 | M9P           | Etobicoke        | Westmount                                                                                                                              |\n",
            "| 108 | M1R           | Scarborough      | Wexford, Maryvale                                                                                                                      |\n",
            "| 109 | M2R           | North York       | Willowdale                                                                                                                             |\n",
            "| 110 | M3R           | Not assigned     | nan                                                                                                                                    |\n",
            "| 111 | M4R           | Central Toronto  | North Toronto West                                                                                                                     |\n",
            "| 112 | M5R           | Central Toronto  | The Annex, North Midtown, Yorkville                                                                                                    |\n",
            "| 113 | M6R           | West Toronto     | Parkdale, Roncesvalles                                                                                                                 |\n",
            "| 114 | M7R           | Mississauga      | Canada Post Gateway Processing Centre                                                                                                  |\n",
            "| 115 | M8R           | Not assigned     | nan                                                                                                                                    |\n",
            "| 116 | M9R           | Etobicoke        | Kingsview Village, St. Phillips, Martin Grove Gardens, Richview Gardens                                                                |\n",
            "| 117 | M1S           | Scarborough      | Agincourt                                                                                                                              |\n",
            "| 118 | M2S           | Not assigned     | nan                                                                                                                                    |\n",
            "| 119 | M3S           | Not assigned     | nan                                                                                                                                    |\n",
            "| 120 | M4S           | Central Toronto  | Davisville                                                                                                                             |\n",
            "| 121 | M5S           | Downtown Toronto | University of Toronto, Harbord                                                                                                         |\n",
            "| 122 | M6S           | West Toronto     | Runnymede, Swansea                                                                                                                     |\n",
            "| 123 | M7S           | Not assigned     | nan                                                                                                                                    |\n",
            "| 124 | M8S           | Not assigned     | nan                                                                                                                                    |\n",
            "| 125 | M9S           | Not assigned     | nan                                                                                                                                    |\n",
            "| 126 | M1T           | Scarborough      | Clarks Corners, Tam O'Shanter, Sullivan                                                                                                |\n",
            "| 127 | M2T           | Not assigned     | nan                                                                                                                                    |\n",
            "| 128 | M3T           | Not assigned     | nan                                                                                                                                    |\n",
            "| 129 | M4T           | Central Toronto  | Moore Park, Summerhill East                                                                                                            |\n",
            "| 130 | M5T           | Downtown Toronto | Kensington Market, Chinatown, Grange Park                                                                                              |\n",
            "| 131 | M6T           | Not assigned     | nan                                                                                                                                    |\n",
            "| 132 | M7T           | Not assigned     | nan                                                                                                                                    |\n",
            "| 133 | M8T           | Not assigned     | nan                                                                                                                                    |\n",
            "| 134 | M9T           | Not assigned     | nan                                                                                                                                    |\n",
            "| 135 | M1V           | Scarborough      | Milliken, Agincourt North, Steeles East, L'Amoreaux East                                                                               |\n",
            "| 136 | M2V           | Not assigned     | nan                                                                                                                                    |\n",
            "| 137 | M3V           | Not assigned     | nan                                                                                                                                    |\n",
            "| 138 | M4V           | Central Toronto  | Summerhill West, Rathnelly, South Hill, Forest Hill SE, Deer Park                                                                      |\n",
            "| 139 | M5V           | Downtown Toronto | CN Tower, King and Spadina, Railway Lands, Harbourfront West, Bathurst Quay, South Niagara, Island airport                             |\n",
            "| 140 | M6V           | Not assigned     | nan                                                                                                                                    |\n",
            "| 141 | M7V           | Not assigned     | nan                                                                                                                                    |\n",
            "| 142 | M8V           | Etobicoke        | New Toronto, Mimico South, Humber Bay Shores                                                                                           |\n",
            "| 143 | M9V           | Etobicoke        | South Steeles, Silverstone, Humbergate, Jamestown, Mount Olive, Beaumond Heights, Thistletown, Albion Gardens                          |\n",
            "| 144 | M1W           | Scarborough      | Steeles West, L'Amoreaux West                                                                                                          |\n",
            "| 145 | M2W           | Not assigned     | nan                                                                                                                                    |\n",
            "| 146 | M3W           | Not assigned     | nan                                                                                                                                    |\n",
            "| 147 | M4W           | Downtown Toronto | Rosedale                                                                                                                               |\n",
            "| 148 | M5W           | Downtown Toronto | Stn A PO Boxes                                                                                                                         |\n",
            "| 149 | M6W           | Not assigned     | nan                                                                                                                                    |\n",
            "| 150 | M7W           | Not assigned     | nan                                                                                                                                    |\n",
            "| 151 | M8W           | Etobicoke        | Alderwood, Long Branch                                                                                                                 |\n",
            "| 152 | M9W           | Etobicoke        | Northwest                                                                                                                              |\n",
            "| 153 | M1X           | Scarborough      | Upper Rouge                                                                                                                            |\n",
            "| 154 | M2X           | Not assigned     | nan                                                                                                                                    |\n",
            "| 155 | M3X           | Not assigned     | nan                                                                                                                                    |\n",
            "| 156 | M4X           | Downtown Toronto | St. James Town, Cabbagetown                                                                                                            |\n",
            "| 157 | M5X           | Downtown Toronto | First Canadian Place, Underground city                                                                                                 |\n",
            "| 158 | M6X           | Not assigned     | nan                                                                                                                                    |\n",
            "| 159 | M7X           | Not assigned     | nan                                                                                                                                    |\n",
            "| 160 | M8X           | Etobicoke        | The Kingsway, Montgomery Road, Old Mill North                                                                                          |\n",
            "| 161 | M9X           | Not assigned     | nan                                                                                                                                    |\n",
            "| 162 | M1Y           | Not assigned     | nan                                                                                                                                    |\n",
            "| 163 | M2Y           | Not assigned     | nan                                                                                                                                    |\n",
            "| 164 | M3Y           | Not assigned     | nan                                                                                                                                    |\n",
            "| 165 | M4Y           | Downtown Toronto | Church and Wellesley                                                                                                                   |\n",
            "| 166 | M5Y           | Not assigned     | nan                                                                                                                                    |\n",
            "| 167 | M6Y           | Not assigned     | nan                                                                                                                                    |\n",
            "| 168 | M7Y           | East Toronto     | Business reply mail Processing Centre                                                                                                  |\n",
            "| 169 | M8Y           | Etobicoke        | Old Mill South, King's Mill Park, Sunnylea, Humber Bay, Mimico NE, The Queensway East, Royal York South East, Kingsway Park South East |\n",
            "| 170 | M9Y           | Not assigned     | nan                                                                                                                                    |\n",
            "| 171 | M1Z           | Not assigned     | nan                                                                                                                                    |\n",
            "| 172 | M2Z           | Not assigned     | nan                                                                                                                                    |\n",
            "| 173 | M3Z           | Not assigned     | nan                                                                                                                                    |\n",
            "| 174 | M4Z           | Not assigned     | nan                                                                                                                                    |\n",
            "| 175 | M5Z           | Not assigned     | nan                                                                                                                                    |\n",
            "| 176 | M6Z           | Not assigned     | nan                                                                                                                                    |\n",
            "| 177 | M7Z           | Not assigned     | nan                                                                                                                                    |\n",
            "| 178 | M8Z           | Etobicoke        | Mimico NW, The Queensway West, South of Bloor, Kingsway Park South West, Royal York South West                                         |\n",
            "| 179 | M9Z           | Not assigned     | nan                                                                                                                                    |\n",
            "+-----+---------------+------------------+----------------------------------------------------------------------------------------------------------------------------------------+\n"
          ],
          "name": "stdout"
        }
      ]
    },
    {
      "cell_type": "markdown",
      "metadata": {
        "id": "uE2nDo1HZ0cF",
        "colab_type": "text"
      },
      "source": [
        "#### Analisando uma coluna específica do que foi importado"
      ]
    },
    {
      "cell_type": "code",
      "metadata": {
        "id": "qxrNplqQZ0cG",
        "colab_type": "code",
        "colab": {
          "base_uri": "https://localhost:8080/",
          "height": 221
        },
        "outputId": "ca3e7a33-bccf-408d-e3fa-759d5e6347bd"
      },
      "source": [
        "print(df[0]['Borough'])"
      ],
      "execution_count": 4,
      "outputs": [
        {
          "output_type": "stream",
          "text": [
            "0          Not assigned\n",
            "1          Not assigned\n",
            "2            North York\n",
            "3            North York\n",
            "4      Downtown Toronto\n",
            "             ...       \n",
            "175        Not assigned\n",
            "176        Not assigned\n",
            "177        Not assigned\n",
            "178           Etobicoke\n",
            "179        Not assigned\n",
            "Name: Borough, Length: 180, dtype: object\n"
          ],
          "name": "stdout"
        }
      ]
    },
    {
      "cell_type": "markdown",
      "metadata": {
        "id": "4EwC1jAVZ0cO",
        "colab_type": "text"
      },
      "source": [
        "#### Convertendo cada coluna para lista"
      ]
    },
    {
      "cell_type": "code",
      "metadata": {
        "id": "tW2C3afbZ0cP",
        "colab_type": "code",
        "colab": {}
      },
      "source": [
        "df = pd.read_html(str(table))[0]\n",
        "postalcode = df[\"Postal Code\"].tolist()\n",
        "borough = df[\"Borough\"].tolist()\n",
        "neigh = df[\"Neighborhood\"].tolist()"
      ],
      "execution_count": 0,
      "outputs": []
    },
    {
      "cell_type": "markdown",
      "metadata": {
        "id": "mlXXZugqZ0cX",
        "colab_type": "text"
      },
      "source": [
        "#### Analisando os dados"
      ]
    },
    {
      "cell_type": "code",
      "metadata": {
        "id": "1CYeG_yYZ0cY",
        "colab_type": "code",
        "colab": {
          "base_uri": "https://localhost:8080/",
          "height": 34
        },
        "outputId": "ae146997-846f-4fff-9562-8f7c431b2ca2"
      },
      "source": [
        "postalcode[18]"
      ],
      "execution_count": 6,
      "outputs": [
        {
          "output_type": "execute_result",
          "data": {
            "text/plain": [
              "'M1C'"
            ]
          },
          "metadata": {
            "tags": []
          },
          "execution_count": 6
        }
      ]
    },
    {
      "cell_type": "code",
      "metadata": {
        "id": "OswA1-lqZ0cm",
        "colab_type": "code",
        "colab": {
          "base_uri": "https://localhost:8080/",
          "height": 34
        },
        "outputId": "4e6e0fe0-45e5-4867-c9f4-3cff8eb6abd4"
      },
      "source": [
        "neigh[18]"
      ],
      "execution_count": 7,
      "outputs": [
        {
          "output_type": "execute_result",
          "data": {
            "text/plain": [
              "'Rouge Hill, Port Union, Highland Creek'"
            ]
          },
          "metadata": {
            "tags": []
          },
          "execution_count": 7
        }
      ]
    },
    {
      "cell_type": "code",
      "metadata": {
        "id": "X4xn_l_yZ0ct",
        "colab_type": "code",
        "colab": {
          "base_uri": "https://localhost:8080/",
          "height": 34
        },
        "outputId": "61375075-46f7-4d53-ee4d-5dba372eb862"
      },
      "source": [
        "borough[18]"
      ],
      "execution_count": 8,
      "outputs": [
        {
          "output_type": "execute_result",
          "data": {
            "text/plain": [
              "'Scarborough'"
            ]
          },
          "metadata": {
            "tags": []
          },
          "execution_count": 8
        }
      ]
    },
    {
      "cell_type": "markdown",
      "metadata": {
        "id": "zitdpGGLZ0c2",
        "colab_type": "text"
      },
      "source": [
        "#### Criando uma lista vazia para poder preencher com as listas anteriormente criadas, com isso terei uma lista aninhada"
      ]
    },
    {
      "cell_type": "code",
      "metadata": {
        "id": "OUPIUjkkZ0c3",
        "colab_type": "code",
        "colab": {}
      },
      "source": [
        "macrolist = []"
      ],
      "execution_count": 0,
      "outputs": []
    },
    {
      "cell_type": "code",
      "metadata": {
        "id": "qKbsrGscZ0c-",
        "colab_type": "code",
        "colab": {}
      },
      "source": [
        "macrolist.append(postalcode)"
      ],
      "execution_count": 0,
      "outputs": []
    },
    {
      "cell_type": "code",
      "metadata": {
        "id": "px17uQavZ0dO",
        "colab_type": "code",
        "colab": {}
      },
      "source": [
        "macrolist.append(borough)"
      ],
      "execution_count": 0,
      "outputs": []
    },
    {
      "cell_type": "code",
      "metadata": {
        "id": "iiAtuUtzZ0dW",
        "colab_type": "code",
        "colab": {}
      },
      "source": [
        "macrolist.append(neigh)"
      ],
      "execution_count": 0,
      "outputs": []
    },
    {
      "cell_type": "code",
      "metadata": {
        "id": "RGn8SA73Z0de",
        "colab_type": "code",
        "colab": {
          "base_uri": "https://localhost:8080/",
          "height": 54
        },
        "outputId": "0b0c0879-d613-4d8e-9702-eefb3519e979"
      },
      "source": [
        "print(macrolist)"
      ],
      "execution_count": 13,
      "outputs": [
        {
          "output_type": "stream",
          "text": [
            "[['M1A', 'M2A', 'M3A', 'M4A', 'M5A', 'M6A', 'M7A', 'M8A', 'M9A', 'M1B', 'M2B', 'M3B', 'M4B', 'M5B', 'M6B', 'M7B', 'M8B', 'M9B', 'M1C', 'M2C', 'M3C', 'M4C', 'M5C', 'M6C', 'M7C', 'M8C', 'M9C', 'M1E', 'M2E', 'M3E', 'M4E', 'M5E', 'M6E', 'M7E', 'M8E', 'M9E', 'M1G', 'M2G', 'M3G', 'M4G', 'M5G', 'M6G', 'M7G', 'M8G', 'M9G', 'M1H', 'M2H', 'M3H', 'M4H', 'M5H', 'M6H', 'M7H', 'M8H', 'M9H', 'M1J', 'M2J', 'M3J', 'M4J', 'M5J', 'M6J', 'M7J', 'M8J', 'M9J', 'M1K', 'M2K', 'M3K', 'M4K', 'M5K', 'M6K', 'M7K', 'M8K', 'M9K', 'M1L', 'M2L', 'M3L', 'M4L', 'M5L', 'M6L', 'M7L', 'M8L', 'M9L', 'M1M', 'M2M', 'M3M', 'M4M', 'M5M', 'M6M', 'M7M', 'M8M', 'M9M', 'M1N', 'M2N', 'M3N', 'M4N', 'M5N', 'M6N', 'M7N', 'M8N', 'M9N', 'M1P', 'M2P', 'M3P', 'M4P', 'M5P', 'M6P', 'M7P', 'M8P', 'M9P', 'M1R', 'M2R', 'M3R', 'M4R', 'M5R', 'M6R', 'M7R', 'M8R', 'M9R', 'M1S', 'M2S', 'M3S', 'M4S', 'M5S', 'M6S', 'M7S', 'M8S', 'M9S', 'M1T', 'M2T', 'M3T', 'M4T', 'M5T', 'M6T', 'M7T', 'M8T', 'M9T', 'M1V', 'M2V', 'M3V', 'M4V', 'M5V', 'M6V', 'M7V', 'M8V', 'M9V', 'M1W', 'M2W', 'M3W', 'M4W', 'M5W', 'M6W', 'M7W', 'M8W', 'M9W', 'M1X', 'M2X', 'M3X', 'M4X', 'M5X', 'M6X', 'M7X', 'M8X', 'M9X', 'M1Y', 'M2Y', 'M3Y', 'M4Y', 'M5Y', 'M6Y', 'M7Y', 'M8Y', 'M9Y', 'M1Z', 'M2Z', 'M3Z', 'M4Z', 'M5Z', 'M6Z', 'M7Z', 'M8Z', 'M9Z'], ['Not assigned', 'Not assigned', 'North York', 'North York', 'Downtown Toronto', 'North York', 'Downtown Toronto', 'Not assigned', 'Etobicoke', 'Scarborough', 'Not assigned', 'North York', 'East York', 'Downtown Toronto', 'North York', 'Not assigned', 'Not assigned', 'Etobicoke', 'Scarborough', 'Not assigned', 'North York', 'East York', 'Downtown Toronto', 'York', 'Not assigned', 'Not assigned', 'Etobicoke', 'Scarborough', 'Not assigned', 'Not assigned', 'East Toronto', 'Downtown Toronto', 'York', 'Not assigned', 'Not assigned', 'Not assigned', 'Scarborough', 'Not assigned', 'Not assigned', 'East York', 'Downtown Toronto', 'Downtown Toronto', 'Not assigned', 'Not assigned', 'Not assigned', 'Scarborough', 'North York', 'North York', 'East York', 'Downtown Toronto', 'West Toronto', 'Not assigned', 'Not assigned', 'Not assigned', 'Scarborough', 'North York', 'North York', 'East York', 'Downtown Toronto', 'West Toronto', 'Not assigned', 'Not assigned', 'Not assigned', 'Scarborough', 'North York', 'North York', 'East Toronto', 'Downtown Toronto', 'West Toronto', 'Not assigned', 'Not assigned', 'Not assigned', 'Scarborough', 'North York', 'North York', 'East Toronto', 'Downtown Toronto', 'North York', 'Not assigned', 'Not assigned', 'North York', 'Scarborough', 'North York', 'North York', 'East Toronto', 'North York', 'York', 'Not assigned', 'Not assigned', 'North York', 'Scarborough', 'North York', 'North York', 'Central Toronto', 'Central Toronto', 'York', 'Not assigned', 'Not assigned', 'York', 'Scarborough', 'North York', 'Not assigned', 'Central Toronto', 'Central Toronto', 'West Toronto', 'Not assigned', 'Not assigned', 'Etobicoke', 'Scarborough', 'North York', 'Not assigned', 'Central Toronto', 'Central Toronto', 'West Toronto', 'Mississauga', 'Not assigned', 'Etobicoke', 'Scarborough', 'Not assigned', 'Not assigned', 'Central Toronto', 'Downtown Toronto', 'West Toronto', 'Not assigned', 'Not assigned', 'Not assigned', 'Scarborough', 'Not assigned', 'Not assigned', 'Central Toronto', 'Downtown Toronto', 'Not assigned', 'Not assigned', 'Not assigned', 'Not assigned', 'Scarborough', 'Not assigned', 'Not assigned', 'Central Toronto', 'Downtown Toronto', 'Not assigned', 'Not assigned', 'Etobicoke', 'Etobicoke', 'Scarborough', 'Not assigned', 'Not assigned', 'Downtown Toronto', 'Downtown Toronto', 'Not assigned', 'Not assigned', 'Etobicoke', 'Etobicoke', 'Scarborough', 'Not assigned', 'Not assigned', 'Downtown Toronto', 'Downtown Toronto', 'Not assigned', 'Not assigned', 'Etobicoke', 'Not assigned', 'Not assigned', 'Not assigned', 'Not assigned', 'Downtown Toronto', 'Not assigned', 'Not assigned', 'East Toronto', 'Etobicoke', 'Not assigned', 'Not assigned', 'Not assigned', 'Not assigned', 'Not assigned', 'Not assigned', 'Not assigned', 'Not assigned', 'Etobicoke', 'Not assigned'], [nan, nan, 'Parkwoods', 'Victoria Village', 'Regent Park, Harbourfront', 'Lawrence Manor, Lawrence Heights', \"Queen's Park, Ontario Provincial Government\", nan, 'Islington Avenue', 'Malvern, Rouge', nan, 'Don Mills', 'Parkview Hill, Woodbine Gardens', 'Garden District, Ryerson', 'Glencairn', nan, nan, 'West Deane Park, Princess Gardens, Martin Grove, Islington, Cloverdale', 'Rouge Hill, Port Union, Highland Creek', nan, 'Don Mills', 'Woodbine Heights', 'St. James Town', 'Humewood-Cedarvale', nan, nan, 'Eringate, Bloordale Gardens, Old Burnhamthorpe, Markland Wood', 'Guildwood, Morningside, West Hill', nan, nan, 'The Beaches', 'Berczy Park', 'Caledonia-Fairbanks', nan, nan, nan, 'Woburn', nan, nan, 'Leaside', 'Central Bay Street', 'Christie', nan, nan, nan, 'Cedarbrae', 'Hillcrest Village', 'Bathurst Manor, Wilson Heights, Downsview North', 'Thorncliffe Park', 'Richmond, Adelaide, King', 'Dufferin, Dovercourt Village', nan, nan, nan, 'Scarborough Village', 'Fairview, Henry Farm, Oriole', 'Northwood Park, York University', 'East Toronto', 'Harbourfront East, Union Station, Toronto Islands', 'Little Portugal, Trinity', nan, nan, nan, 'Kennedy Park, Ionview, East Birchmount Park', 'Bayview Village', 'Downsview', 'The Danforth West, Riverdale', 'Toronto Dominion Centre, Design Exchange', 'Brockton, Parkdale Village, Exhibition Place', nan, nan, nan, 'Golden Mile, Clairlea, Oakridge', 'York Mills, Silver Hills', 'Downsview', 'India Bazaar, The Beaches West', 'Commerce Court, Victoria Hotel', 'North Park, Maple Leaf Park, Upwood Park', nan, nan, 'Humber Summit', 'Cliffside, Cliffcrest, Scarborough Village West', 'Willowdale, Newtonbrook', 'Downsview', 'Studio District', 'Bedford Park, Lawrence Manor East', 'Del Ray, Mount Dennis, Keelsdale and Silverthorn', nan, nan, 'Humberlea, Emery', 'Birch Cliff, Cliffside West', 'Willowdale', 'Downsview', 'Lawrence Park', 'Roselawn', 'Runnymede, The Junction North', nan, nan, 'Weston', 'Dorset Park, Wexford Heights, Scarborough Town Centre', 'York Mills West', nan, 'Davisville North', 'Forest Hill North & West', 'High Park, The Junction South', nan, nan, 'Westmount', 'Wexford, Maryvale', 'Willowdale', nan, 'North Toronto West', 'The Annex, North Midtown, Yorkville', 'Parkdale, Roncesvalles', 'Canada Post Gateway Processing Centre', nan, 'Kingsview Village, St. Phillips, Martin Grove Gardens, Richview Gardens', 'Agincourt', nan, nan, 'Davisville', 'University of Toronto, Harbord', 'Runnymede, Swansea', nan, nan, nan, \"Clarks Corners, Tam O'Shanter, Sullivan\", nan, nan, 'Moore Park, Summerhill East', 'Kensington Market, Chinatown, Grange Park', nan, nan, nan, nan, \"Milliken, Agincourt North, Steeles East, L'Amoreaux East\", nan, nan, 'Summerhill West, Rathnelly, South Hill, Forest Hill SE, Deer Park', 'CN Tower, King and Spadina, Railway Lands, Harbourfront West, Bathurst Quay, South Niagara, Island airport', nan, nan, 'New Toronto, Mimico South, Humber Bay Shores', 'South Steeles, Silverstone, Humbergate, Jamestown, Mount Olive, Beaumond Heights, Thistletown, Albion Gardens', \"Steeles West, L'Amoreaux West\", nan, nan, 'Rosedale', 'Stn A PO Boxes', nan, nan, 'Alderwood, Long Branch', 'Northwest', 'Upper Rouge', nan, nan, 'St. James Town, Cabbagetown', 'First Canadian Place, Underground city', nan, nan, 'The Kingsway, Montgomery Road, Old Mill North', nan, nan, nan, nan, 'Church and Wellesley', nan, nan, 'Business reply mail Processing Centre', \"Old Mill South, King's Mill Park, Sunnylea, Humber Bay, Mimico NE, The Queensway East, Royal York South East, Kingsway Park South East\", nan, nan, nan, nan, nan, nan, nan, nan, 'Mimico NW, The Queensway West, South of Bloor, Kingsway Park South West, Royal York South West', nan]]\n"
          ],
          "name": "stdout"
        }
      ]
    },
    {
      "cell_type": "code",
      "metadata": {
        "id": "PZU6GnVWZ0dm",
        "colab_type": "code",
        "colab": {}
      },
      "source": [
        ""
      ],
      "execution_count": 0,
      "outputs": []
    },
    {
      "cell_type": "code",
      "metadata": {
        "id": "LQW1iH52Z0dt",
        "colab_type": "code",
        "colab": {}
      },
      "source": [
        ""
      ],
      "execution_count": 0,
      "outputs": []
    },
    {
      "cell_type": "markdown",
      "metadata": {
        "id": "WWfWsqSbZ0d3",
        "colab_type": "text"
      },
      "source": [
        "#### Importando DataFrame e convertendo as listas em dataframe do Pandas"
      ]
    },
    {
      "cell_type": "code",
      "metadata": {
        "id": "p8yV-RYQZ0d4",
        "colab_type": "code",
        "colab": {
          "base_uri": "https://localhost:8080/",
          "height": 255
        },
        "outputId": "4c182963-9efb-4827-9d2c-7ea868027fc9"
      },
      "source": [
        "from pandas import DataFrame\n",
        "df1 = DataFrame (macrolist).transpose()\n",
        "#selecionando o nome das colunas\n",
        "df1.columns = ['Postal Code','Borough','Neighborhood']\n",
        "print (df1)"
      ],
      "execution_count": 14,
      "outputs": [
        {
          "output_type": "stream",
          "text": [
            "    Postal Code  ...                                       Neighborhood\n",
            "0           M1A  ...                                                NaN\n",
            "1           M2A  ...                                                NaN\n",
            "2           M3A  ...                                          Parkwoods\n",
            "3           M4A  ...                                   Victoria Village\n",
            "4           M5A  ...                          Regent Park, Harbourfront\n",
            "..          ...  ...                                                ...\n",
            "175         M5Z  ...                                                NaN\n",
            "176         M6Z  ...                                                NaN\n",
            "177         M7Z  ...                                                NaN\n",
            "178         M8Z  ...  Mimico NW, The Queensway West, South of Bloor,...\n",
            "179         M9Z  ...                                                NaN\n",
            "\n",
            "[180 rows x 3 columns]\n"
          ],
          "name": "stdout"
        }
      ]
    },
    {
      "cell_type": "code",
      "metadata": {
        "id": "CcRdL8JwZ0eB",
        "colab_type": "code",
        "colab": {
          "base_uri": "https://localhost:8080/",
          "height": 514
        },
        "outputId": "f2e99ba6-4f9a-401a-ec50-c813eea905c9"
      },
      "source": [
        "df1.head(15)"
      ],
      "execution_count": 15,
      "outputs": [
        {
          "output_type": "execute_result",
          "data": {
            "text/html": [
              "<div>\n",
              "<style scoped>\n",
              "    .dataframe tbody tr th:only-of-type {\n",
              "        vertical-align: middle;\n",
              "    }\n",
              "\n",
              "    .dataframe tbody tr th {\n",
              "        vertical-align: top;\n",
              "    }\n",
              "\n",
              "    .dataframe thead th {\n",
              "        text-align: right;\n",
              "    }\n",
              "</style>\n",
              "<table border=\"1\" class=\"dataframe\">\n",
              "  <thead>\n",
              "    <tr style=\"text-align: right;\">\n",
              "      <th></th>\n",
              "      <th>Postal Code</th>\n",
              "      <th>Borough</th>\n",
              "      <th>Neighborhood</th>\n",
              "    </tr>\n",
              "  </thead>\n",
              "  <tbody>\n",
              "    <tr>\n",
              "      <th>0</th>\n",
              "      <td>M1A</td>\n",
              "      <td>Not assigned</td>\n",
              "      <td>NaN</td>\n",
              "    </tr>\n",
              "    <tr>\n",
              "      <th>1</th>\n",
              "      <td>M2A</td>\n",
              "      <td>Not assigned</td>\n",
              "      <td>NaN</td>\n",
              "    </tr>\n",
              "    <tr>\n",
              "      <th>2</th>\n",
              "      <td>M3A</td>\n",
              "      <td>North York</td>\n",
              "      <td>Parkwoods</td>\n",
              "    </tr>\n",
              "    <tr>\n",
              "      <th>3</th>\n",
              "      <td>M4A</td>\n",
              "      <td>North York</td>\n",
              "      <td>Victoria Village</td>\n",
              "    </tr>\n",
              "    <tr>\n",
              "      <th>4</th>\n",
              "      <td>M5A</td>\n",
              "      <td>Downtown Toronto</td>\n",
              "      <td>Regent Park, Harbourfront</td>\n",
              "    </tr>\n",
              "    <tr>\n",
              "      <th>5</th>\n",
              "      <td>M6A</td>\n",
              "      <td>North York</td>\n",
              "      <td>Lawrence Manor, Lawrence Heights</td>\n",
              "    </tr>\n",
              "    <tr>\n",
              "      <th>6</th>\n",
              "      <td>M7A</td>\n",
              "      <td>Downtown Toronto</td>\n",
              "      <td>Queen's Park, Ontario Provincial Government</td>\n",
              "    </tr>\n",
              "    <tr>\n",
              "      <th>7</th>\n",
              "      <td>M8A</td>\n",
              "      <td>Not assigned</td>\n",
              "      <td>NaN</td>\n",
              "    </tr>\n",
              "    <tr>\n",
              "      <th>8</th>\n",
              "      <td>M9A</td>\n",
              "      <td>Etobicoke</td>\n",
              "      <td>Islington Avenue</td>\n",
              "    </tr>\n",
              "    <tr>\n",
              "      <th>9</th>\n",
              "      <td>M1B</td>\n",
              "      <td>Scarborough</td>\n",
              "      <td>Malvern, Rouge</td>\n",
              "    </tr>\n",
              "    <tr>\n",
              "      <th>10</th>\n",
              "      <td>M2B</td>\n",
              "      <td>Not assigned</td>\n",
              "      <td>NaN</td>\n",
              "    </tr>\n",
              "    <tr>\n",
              "      <th>11</th>\n",
              "      <td>M3B</td>\n",
              "      <td>North York</td>\n",
              "      <td>Don Mills</td>\n",
              "    </tr>\n",
              "    <tr>\n",
              "      <th>12</th>\n",
              "      <td>M4B</td>\n",
              "      <td>East York</td>\n",
              "      <td>Parkview Hill, Woodbine Gardens</td>\n",
              "    </tr>\n",
              "    <tr>\n",
              "      <th>13</th>\n",
              "      <td>M5B</td>\n",
              "      <td>Downtown Toronto</td>\n",
              "      <td>Garden District, Ryerson</td>\n",
              "    </tr>\n",
              "    <tr>\n",
              "      <th>14</th>\n",
              "      <td>M6B</td>\n",
              "      <td>North York</td>\n",
              "      <td>Glencairn</td>\n",
              "    </tr>\n",
              "  </tbody>\n",
              "</table>\n",
              "</div>"
            ],
            "text/plain": [
              "   Postal Code           Borough                                 Neighborhood\n",
              "0          M1A      Not assigned                                          NaN\n",
              "1          M2A      Not assigned                                          NaN\n",
              "2          M3A        North York                                    Parkwoods\n",
              "3          M4A        North York                             Victoria Village\n",
              "4          M5A  Downtown Toronto                    Regent Park, Harbourfront\n",
              "5          M6A        North York             Lawrence Manor, Lawrence Heights\n",
              "6          M7A  Downtown Toronto  Queen's Park, Ontario Provincial Government\n",
              "7          M8A      Not assigned                                          NaN\n",
              "8          M9A         Etobicoke                             Islington Avenue\n",
              "9          M1B       Scarborough                               Malvern, Rouge\n",
              "10         M2B      Not assigned                                          NaN\n",
              "11         M3B        North York                                    Don Mills\n",
              "12         M4B         East York              Parkview Hill, Woodbine Gardens\n",
              "13         M5B  Downtown Toronto                     Garden District, Ryerson\n",
              "14         M6B        North York                                    Glencairn"
            ]
          },
          "metadata": {
            "tags": []
          },
          "execution_count": 15
        }
      ]
    },
    {
      "cell_type": "markdown",
      "metadata": {
        "id": "HXPCRRyuZ0eI",
        "colab_type": "text"
      },
      "source": [
        "#### Calculando a quantidade de registros vazios em cada coluna"
      ]
    },
    {
      "cell_type": "code",
      "metadata": {
        "id": "DcTrj3-wZ0eJ",
        "colab_type": "code",
        "colab": {
          "base_uri": "https://localhost:8080/",
          "height": 85
        },
        "outputId": "9297be80-782a-41fd-c777-387e54818007"
      },
      "source": [
        "df1.isnull().sum()"
      ],
      "execution_count": 16,
      "outputs": [
        {
          "output_type": "execute_result",
          "data": {
            "text/plain": [
              "Postal Code      0\n",
              "Borough          0\n",
              "Neighborhood    77\n",
              "dtype: int64"
            ]
          },
          "metadata": {
            "tags": []
          },
          "execution_count": 16
        }
      ]
    },
    {
      "cell_type": "markdown",
      "metadata": {
        "id": "qiyrt9i6Z0eW",
        "colab_type": "text"
      },
      "source": [
        "#### Apagando todos os registros vazios do dataframe"
      ]
    },
    {
      "cell_type": "code",
      "metadata": {
        "id": "DTBOVkM4Z0eY",
        "colab_type": "code",
        "colab": {}
      },
      "source": [
        "df1.dropna(inplace=True)"
      ],
      "execution_count": 0,
      "outputs": []
    },
    {
      "cell_type": "code",
      "metadata": {
        "id": "naW6rTTbZ0ed",
        "colab_type": "code",
        "colab": {
          "base_uri": "https://localhost:8080/",
          "height": 85
        },
        "outputId": "0933061f-b4de-4167-dc09-eb3a57248bc2"
      },
      "source": [
        "df1.isnull().sum()"
      ],
      "execution_count": 18,
      "outputs": [
        {
          "output_type": "execute_result",
          "data": {
            "text/plain": [
              "Postal Code     0\n",
              "Borough         0\n",
              "Neighborhood    0\n",
              "dtype: int64"
            ]
          },
          "metadata": {
            "tags": []
          },
          "execution_count": 18
        }
      ]
    },
    {
      "cell_type": "code",
      "metadata": {
        "id": "tRD17-TeZ0el",
        "colab_type": "code",
        "colab": {
          "base_uri": "https://localhost:8080/",
          "height": 34
        },
        "outputId": "bc872562-2eda-4716-e6e3-ec598af5415b"
      },
      "source": [
        "df1.shape"
      ],
      "execution_count": 19,
      "outputs": [
        {
          "output_type": "execute_result",
          "data": {
            "text/plain": [
              "(103, 3)"
            ]
          },
          "metadata": {
            "tags": []
          },
          "execution_count": 19
        }
      ]
    },
    {
      "cell_type": "code",
      "metadata": {
        "id": "lzZs-dEEZ0er",
        "colab_type": "code",
        "colab": {
          "base_uri": "https://localhost:8080/",
          "height": 34
        },
        "outputId": "5a70e72c-7f79-49c8-e70b-24bd15878e46"
      },
      "source": [
        "#usando o groupby\n",
        "df1[['Neighborhood']].groupby(df1['Borough'])\n"
      ],
      "execution_count": 20,
      "outputs": [
        {
          "output_type": "execute_result",
          "data": {
            "text/plain": [
              "<pandas.core.groupby.generic.DataFrameGroupBy object at 0x7faca85f49e8>"
            ]
          },
          "metadata": {
            "tags": []
          },
          "execution_count": 20
        }
      ]
    },
    {
      "cell_type": "code",
      "metadata": {
        "id": "4iqXkfXvZ0e0",
        "colab_type": "code",
        "colab": {
          "base_uri": "https://localhost:8080/",
          "height": 669
        },
        "outputId": "f8321a1a-2863-4317-dbbe-3b238deea56e"
      },
      "source": [
        "df1.head(20)"
      ],
      "execution_count": 21,
      "outputs": [
        {
          "output_type": "execute_result",
          "data": {
            "text/html": [
              "<div>\n",
              "<style scoped>\n",
              "    .dataframe tbody tr th:only-of-type {\n",
              "        vertical-align: middle;\n",
              "    }\n",
              "\n",
              "    .dataframe tbody tr th {\n",
              "        vertical-align: top;\n",
              "    }\n",
              "\n",
              "    .dataframe thead th {\n",
              "        text-align: right;\n",
              "    }\n",
              "</style>\n",
              "<table border=\"1\" class=\"dataframe\">\n",
              "  <thead>\n",
              "    <tr style=\"text-align: right;\">\n",
              "      <th></th>\n",
              "      <th>Postal Code</th>\n",
              "      <th>Borough</th>\n",
              "      <th>Neighborhood</th>\n",
              "    </tr>\n",
              "  </thead>\n",
              "  <tbody>\n",
              "    <tr>\n",
              "      <th>2</th>\n",
              "      <td>M3A</td>\n",
              "      <td>North York</td>\n",
              "      <td>Parkwoods</td>\n",
              "    </tr>\n",
              "    <tr>\n",
              "      <th>3</th>\n",
              "      <td>M4A</td>\n",
              "      <td>North York</td>\n",
              "      <td>Victoria Village</td>\n",
              "    </tr>\n",
              "    <tr>\n",
              "      <th>4</th>\n",
              "      <td>M5A</td>\n",
              "      <td>Downtown Toronto</td>\n",
              "      <td>Regent Park, Harbourfront</td>\n",
              "    </tr>\n",
              "    <tr>\n",
              "      <th>5</th>\n",
              "      <td>M6A</td>\n",
              "      <td>North York</td>\n",
              "      <td>Lawrence Manor, Lawrence Heights</td>\n",
              "    </tr>\n",
              "    <tr>\n",
              "      <th>6</th>\n",
              "      <td>M7A</td>\n",
              "      <td>Downtown Toronto</td>\n",
              "      <td>Queen's Park, Ontario Provincial Government</td>\n",
              "    </tr>\n",
              "    <tr>\n",
              "      <th>8</th>\n",
              "      <td>M9A</td>\n",
              "      <td>Etobicoke</td>\n",
              "      <td>Islington Avenue</td>\n",
              "    </tr>\n",
              "    <tr>\n",
              "      <th>9</th>\n",
              "      <td>M1B</td>\n",
              "      <td>Scarborough</td>\n",
              "      <td>Malvern, Rouge</td>\n",
              "    </tr>\n",
              "    <tr>\n",
              "      <th>11</th>\n",
              "      <td>M3B</td>\n",
              "      <td>North York</td>\n",
              "      <td>Don Mills</td>\n",
              "    </tr>\n",
              "    <tr>\n",
              "      <th>12</th>\n",
              "      <td>M4B</td>\n",
              "      <td>East York</td>\n",
              "      <td>Parkview Hill, Woodbine Gardens</td>\n",
              "    </tr>\n",
              "    <tr>\n",
              "      <th>13</th>\n",
              "      <td>M5B</td>\n",
              "      <td>Downtown Toronto</td>\n",
              "      <td>Garden District, Ryerson</td>\n",
              "    </tr>\n",
              "    <tr>\n",
              "      <th>14</th>\n",
              "      <td>M6B</td>\n",
              "      <td>North York</td>\n",
              "      <td>Glencairn</td>\n",
              "    </tr>\n",
              "    <tr>\n",
              "      <th>17</th>\n",
              "      <td>M9B</td>\n",
              "      <td>Etobicoke</td>\n",
              "      <td>West Deane Park, Princess Gardens, Martin Grov...</td>\n",
              "    </tr>\n",
              "    <tr>\n",
              "      <th>18</th>\n",
              "      <td>M1C</td>\n",
              "      <td>Scarborough</td>\n",
              "      <td>Rouge Hill, Port Union, Highland Creek</td>\n",
              "    </tr>\n",
              "    <tr>\n",
              "      <th>20</th>\n",
              "      <td>M3C</td>\n",
              "      <td>North York</td>\n",
              "      <td>Don Mills</td>\n",
              "    </tr>\n",
              "    <tr>\n",
              "      <th>21</th>\n",
              "      <td>M4C</td>\n",
              "      <td>East York</td>\n",
              "      <td>Woodbine Heights</td>\n",
              "    </tr>\n",
              "    <tr>\n",
              "      <th>22</th>\n",
              "      <td>M5C</td>\n",
              "      <td>Downtown Toronto</td>\n",
              "      <td>St. James Town</td>\n",
              "    </tr>\n",
              "    <tr>\n",
              "      <th>23</th>\n",
              "      <td>M6C</td>\n",
              "      <td>York</td>\n",
              "      <td>Humewood-Cedarvale</td>\n",
              "    </tr>\n",
              "    <tr>\n",
              "      <th>26</th>\n",
              "      <td>M9C</td>\n",
              "      <td>Etobicoke</td>\n",
              "      <td>Eringate, Bloordale Gardens, Old Burnhamthorpe...</td>\n",
              "    </tr>\n",
              "    <tr>\n",
              "      <th>27</th>\n",
              "      <td>M1E</td>\n",
              "      <td>Scarborough</td>\n",
              "      <td>Guildwood, Morningside, West Hill</td>\n",
              "    </tr>\n",
              "    <tr>\n",
              "      <th>30</th>\n",
              "      <td>M4E</td>\n",
              "      <td>East Toronto</td>\n",
              "      <td>The Beaches</td>\n",
              "    </tr>\n",
              "  </tbody>\n",
              "</table>\n",
              "</div>"
            ],
            "text/plain": [
              "   Postal Code  ...                                       Neighborhood\n",
              "2          M3A  ...                                          Parkwoods\n",
              "3          M4A  ...                                   Victoria Village\n",
              "4          M5A  ...                          Regent Park, Harbourfront\n",
              "5          M6A  ...                   Lawrence Manor, Lawrence Heights\n",
              "6          M7A  ...        Queen's Park, Ontario Provincial Government\n",
              "8          M9A  ...                                   Islington Avenue\n",
              "9          M1B  ...                                     Malvern, Rouge\n",
              "11         M3B  ...                                          Don Mills\n",
              "12         M4B  ...                    Parkview Hill, Woodbine Gardens\n",
              "13         M5B  ...                           Garden District, Ryerson\n",
              "14         M6B  ...                                          Glencairn\n",
              "17         M9B  ...  West Deane Park, Princess Gardens, Martin Grov...\n",
              "18         M1C  ...             Rouge Hill, Port Union, Highland Creek\n",
              "20         M3C  ...                                          Don Mills\n",
              "21         M4C  ...                                   Woodbine Heights\n",
              "22         M5C  ...                                     St. James Town\n",
              "23         M6C  ...                                 Humewood-Cedarvale\n",
              "26         M9C  ...  Eringate, Bloordale Gardens, Old Burnhamthorpe...\n",
              "27         M1E  ...                  Guildwood, Morningside, West Hill\n",
              "30         M4E  ...                                        The Beaches\n",
              "\n",
              "[20 rows x 3 columns]"
            ]
          },
          "metadata": {
            "tags": []
          },
          "execution_count": 21
        }
      ]
    },
    {
      "cell_type": "code",
      "metadata": {
        "id": "QAUbD_tqZ0e_",
        "colab_type": "code",
        "colab": {}
      },
      "source": [
        "#resetando o index \n",
        "df1.reset_index(drop=True, inplace=True)"
      ],
      "execution_count": 0,
      "outputs": []
    },
    {
      "cell_type": "code",
      "metadata": {
        "id": "f8K-ymGwZ0fH",
        "colab_type": "code",
        "colab": {
          "base_uri": "https://localhost:8080/",
          "height": 669
        },
        "outputId": "673a137c-6418-40ff-81f2-b5c03398e180"
      },
      "source": [
        "df1.head(20)"
      ],
      "execution_count": 23,
      "outputs": [
        {
          "output_type": "execute_result",
          "data": {
            "text/html": [
              "<div>\n",
              "<style scoped>\n",
              "    .dataframe tbody tr th:only-of-type {\n",
              "        vertical-align: middle;\n",
              "    }\n",
              "\n",
              "    .dataframe tbody tr th {\n",
              "        vertical-align: top;\n",
              "    }\n",
              "\n",
              "    .dataframe thead th {\n",
              "        text-align: right;\n",
              "    }\n",
              "</style>\n",
              "<table border=\"1\" class=\"dataframe\">\n",
              "  <thead>\n",
              "    <tr style=\"text-align: right;\">\n",
              "      <th></th>\n",
              "      <th>Postal Code</th>\n",
              "      <th>Borough</th>\n",
              "      <th>Neighborhood</th>\n",
              "    </tr>\n",
              "  </thead>\n",
              "  <tbody>\n",
              "    <tr>\n",
              "      <th>0</th>\n",
              "      <td>M3A</td>\n",
              "      <td>North York</td>\n",
              "      <td>Parkwoods</td>\n",
              "    </tr>\n",
              "    <tr>\n",
              "      <th>1</th>\n",
              "      <td>M4A</td>\n",
              "      <td>North York</td>\n",
              "      <td>Victoria Village</td>\n",
              "    </tr>\n",
              "    <tr>\n",
              "      <th>2</th>\n",
              "      <td>M5A</td>\n",
              "      <td>Downtown Toronto</td>\n",
              "      <td>Regent Park, Harbourfront</td>\n",
              "    </tr>\n",
              "    <tr>\n",
              "      <th>3</th>\n",
              "      <td>M6A</td>\n",
              "      <td>North York</td>\n",
              "      <td>Lawrence Manor, Lawrence Heights</td>\n",
              "    </tr>\n",
              "    <tr>\n",
              "      <th>4</th>\n",
              "      <td>M7A</td>\n",
              "      <td>Downtown Toronto</td>\n",
              "      <td>Queen's Park, Ontario Provincial Government</td>\n",
              "    </tr>\n",
              "    <tr>\n",
              "      <th>5</th>\n",
              "      <td>M9A</td>\n",
              "      <td>Etobicoke</td>\n",
              "      <td>Islington Avenue</td>\n",
              "    </tr>\n",
              "    <tr>\n",
              "      <th>6</th>\n",
              "      <td>M1B</td>\n",
              "      <td>Scarborough</td>\n",
              "      <td>Malvern, Rouge</td>\n",
              "    </tr>\n",
              "    <tr>\n",
              "      <th>7</th>\n",
              "      <td>M3B</td>\n",
              "      <td>North York</td>\n",
              "      <td>Don Mills</td>\n",
              "    </tr>\n",
              "    <tr>\n",
              "      <th>8</th>\n",
              "      <td>M4B</td>\n",
              "      <td>East York</td>\n",
              "      <td>Parkview Hill, Woodbine Gardens</td>\n",
              "    </tr>\n",
              "    <tr>\n",
              "      <th>9</th>\n",
              "      <td>M5B</td>\n",
              "      <td>Downtown Toronto</td>\n",
              "      <td>Garden District, Ryerson</td>\n",
              "    </tr>\n",
              "    <tr>\n",
              "      <th>10</th>\n",
              "      <td>M6B</td>\n",
              "      <td>North York</td>\n",
              "      <td>Glencairn</td>\n",
              "    </tr>\n",
              "    <tr>\n",
              "      <th>11</th>\n",
              "      <td>M9B</td>\n",
              "      <td>Etobicoke</td>\n",
              "      <td>West Deane Park, Princess Gardens, Martin Grov...</td>\n",
              "    </tr>\n",
              "    <tr>\n",
              "      <th>12</th>\n",
              "      <td>M1C</td>\n",
              "      <td>Scarborough</td>\n",
              "      <td>Rouge Hill, Port Union, Highland Creek</td>\n",
              "    </tr>\n",
              "    <tr>\n",
              "      <th>13</th>\n",
              "      <td>M3C</td>\n",
              "      <td>North York</td>\n",
              "      <td>Don Mills</td>\n",
              "    </tr>\n",
              "    <tr>\n",
              "      <th>14</th>\n",
              "      <td>M4C</td>\n",
              "      <td>East York</td>\n",
              "      <td>Woodbine Heights</td>\n",
              "    </tr>\n",
              "    <tr>\n",
              "      <th>15</th>\n",
              "      <td>M5C</td>\n",
              "      <td>Downtown Toronto</td>\n",
              "      <td>St. James Town</td>\n",
              "    </tr>\n",
              "    <tr>\n",
              "      <th>16</th>\n",
              "      <td>M6C</td>\n",
              "      <td>York</td>\n",
              "      <td>Humewood-Cedarvale</td>\n",
              "    </tr>\n",
              "    <tr>\n",
              "      <th>17</th>\n",
              "      <td>M9C</td>\n",
              "      <td>Etobicoke</td>\n",
              "      <td>Eringate, Bloordale Gardens, Old Burnhamthorpe...</td>\n",
              "    </tr>\n",
              "    <tr>\n",
              "      <th>18</th>\n",
              "      <td>M1E</td>\n",
              "      <td>Scarborough</td>\n",
              "      <td>Guildwood, Morningside, West Hill</td>\n",
              "    </tr>\n",
              "    <tr>\n",
              "      <th>19</th>\n",
              "      <td>M4E</td>\n",
              "      <td>East Toronto</td>\n",
              "      <td>The Beaches</td>\n",
              "    </tr>\n",
              "  </tbody>\n",
              "</table>\n",
              "</div>"
            ],
            "text/plain": [
              "   Postal Code  ...                                       Neighborhood\n",
              "0          M3A  ...                                          Parkwoods\n",
              "1          M4A  ...                                   Victoria Village\n",
              "2          M5A  ...                          Regent Park, Harbourfront\n",
              "3          M6A  ...                   Lawrence Manor, Lawrence Heights\n",
              "4          M7A  ...        Queen's Park, Ontario Provincial Government\n",
              "5          M9A  ...                                   Islington Avenue\n",
              "6          M1B  ...                                     Malvern, Rouge\n",
              "7          M3B  ...                                          Don Mills\n",
              "8          M4B  ...                    Parkview Hill, Woodbine Gardens\n",
              "9          M5B  ...                           Garden District, Ryerson\n",
              "10         M6B  ...                                          Glencairn\n",
              "11         M9B  ...  West Deane Park, Princess Gardens, Martin Grov...\n",
              "12         M1C  ...             Rouge Hill, Port Union, Highland Creek\n",
              "13         M3C  ...                                          Don Mills\n",
              "14         M4C  ...                                   Woodbine Heights\n",
              "15         M5C  ...                                     St. James Town\n",
              "16         M6C  ...                                 Humewood-Cedarvale\n",
              "17         M9C  ...  Eringate, Bloordale Gardens, Old Burnhamthorpe...\n",
              "18         M1E  ...                  Guildwood, Morningside, West Hill\n",
              "19         M4E  ...                                        The Beaches\n",
              "\n",
              "[20 rows x 3 columns]"
            ]
          },
          "metadata": {
            "tags": []
          },
          "execution_count": 23
        }
      ]
    },
    {
      "cell_type": "markdown",
      "metadata": {
        "id": "W3Lx97DcdAUP",
        "colab_type": "text"
      },
      "source": [
        "#### Importando o arquivo csv e transformando em DataFrame do Pandas"
      ]
    },
    {
      "cell_type": "code",
      "metadata": {
        "id": "YAEr1GhRZ0fO",
        "colab_type": "code",
        "colab": {}
      },
      "source": [
        "latlog = pd.read_csv('https://cocl.us/Geospatial_data')"
      ],
      "execution_count": 0,
      "outputs": []
    },
    {
      "cell_type": "code",
      "metadata": {
        "id": "_I_akzLLapG5",
        "colab_type": "code",
        "colab": {
          "base_uri": "https://localhost:8080/",
          "height": 419
        },
        "outputId": "77101dd8-e7d1-4378-aadb-7a0b9288bfd7"
      },
      "source": [
        "latlog"
      ],
      "execution_count": 25,
      "outputs": [
        {
          "output_type": "execute_result",
          "data": {
            "text/html": [
              "<div>\n",
              "<style scoped>\n",
              "    .dataframe tbody tr th:only-of-type {\n",
              "        vertical-align: middle;\n",
              "    }\n",
              "\n",
              "    .dataframe tbody tr th {\n",
              "        vertical-align: top;\n",
              "    }\n",
              "\n",
              "    .dataframe thead th {\n",
              "        text-align: right;\n",
              "    }\n",
              "</style>\n",
              "<table border=\"1\" class=\"dataframe\">\n",
              "  <thead>\n",
              "    <tr style=\"text-align: right;\">\n",
              "      <th></th>\n",
              "      <th>Postal Code</th>\n",
              "      <th>Latitude</th>\n",
              "      <th>Longitude</th>\n",
              "    </tr>\n",
              "  </thead>\n",
              "  <tbody>\n",
              "    <tr>\n",
              "      <th>0</th>\n",
              "      <td>M1B</td>\n",
              "      <td>43.806686</td>\n",
              "      <td>-79.194353</td>\n",
              "    </tr>\n",
              "    <tr>\n",
              "      <th>1</th>\n",
              "      <td>M1C</td>\n",
              "      <td>43.784535</td>\n",
              "      <td>-79.160497</td>\n",
              "    </tr>\n",
              "    <tr>\n",
              "      <th>2</th>\n",
              "      <td>M1E</td>\n",
              "      <td>43.763573</td>\n",
              "      <td>-79.188711</td>\n",
              "    </tr>\n",
              "    <tr>\n",
              "      <th>3</th>\n",
              "      <td>M1G</td>\n",
              "      <td>43.770992</td>\n",
              "      <td>-79.216917</td>\n",
              "    </tr>\n",
              "    <tr>\n",
              "      <th>4</th>\n",
              "      <td>M1H</td>\n",
              "      <td>43.773136</td>\n",
              "      <td>-79.239476</td>\n",
              "    </tr>\n",
              "    <tr>\n",
              "      <th>...</th>\n",
              "      <td>...</td>\n",
              "      <td>...</td>\n",
              "      <td>...</td>\n",
              "    </tr>\n",
              "    <tr>\n",
              "      <th>98</th>\n",
              "      <td>M9N</td>\n",
              "      <td>43.706876</td>\n",
              "      <td>-79.518188</td>\n",
              "    </tr>\n",
              "    <tr>\n",
              "      <th>99</th>\n",
              "      <td>M9P</td>\n",
              "      <td>43.696319</td>\n",
              "      <td>-79.532242</td>\n",
              "    </tr>\n",
              "    <tr>\n",
              "      <th>100</th>\n",
              "      <td>M9R</td>\n",
              "      <td>43.688905</td>\n",
              "      <td>-79.554724</td>\n",
              "    </tr>\n",
              "    <tr>\n",
              "      <th>101</th>\n",
              "      <td>M9V</td>\n",
              "      <td>43.739416</td>\n",
              "      <td>-79.588437</td>\n",
              "    </tr>\n",
              "    <tr>\n",
              "      <th>102</th>\n",
              "      <td>M9W</td>\n",
              "      <td>43.706748</td>\n",
              "      <td>-79.594054</td>\n",
              "    </tr>\n",
              "  </tbody>\n",
              "</table>\n",
              "<p>103 rows × 3 columns</p>\n",
              "</div>"
            ],
            "text/plain": [
              "    Postal Code   Latitude  Longitude\n",
              "0           M1B  43.806686 -79.194353\n",
              "1           M1C  43.784535 -79.160497\n",
              "2           M1E  43.763573 -79.188711\n",
              "3           M1G  43.770992 -79.216917\n",
              "4           M1H  43.773136 -79.239476\n",
              "..          ...        ...        ...\n",
              "98          M9N  43.706876 -79.518188\n",
              "99          M9P  43.696319 -79.532242\n",
              "100         M9R  43.688905 -79.554724\n",
              "101         M9V  43.739416 -79.588437\n",
              "102         M9W  43.706748 -79.594054\n",
              "\n",
              "[103 rows x 3 columns]"
            ]
          },
          "metadata": {
            "tags": []
          },
          "execution_count": 25
        }
      ]
    },
    {
      "cell_type": "markdown",
      "metadata": {
        "id": "2J9JXpZWdN3I",
        "colab_type": "text"
      },
      "source": [
        "####Verificando a estrutura do arquivo"
      ]
    },
    {
      "cell_type": "code",
      "metadata": {
        "id": "jGJ3MEX2aq9Q",
        "colab_type": "code",
        "colab": {
          "base_uri": "https://localhost:8080/",
          "height": 255
        },
        "outputId": "61953c7d-3920-4713-b81e-f0eb9c59e793"
      },
      "source": [
        "latlog.describe"
      ],
      "execution_count": 28,
      "outputs": [
        {
          "output_type": "execute_result",
          "data": {
            "text/plain": [
              "<bound method NDFrame.describe of     Postal Code   Latitude  Longitude\n",
              "0           M1B  43.806686 -79.194353\n",
              "1           M1C  43.784535 -79.160497\n",
              "2           M1E  43.763573 -79.188711\n",
              "3           M1G  43.770992 -79.216917\n",
              "4           M1H  43.773136 -79.239476\n",
              "..          ...        ...        ...\n",
              "98          M9N  43.706876 -79.518188\n",
              "99          M9P  43.696319 -79.532242\n",
              "100         M9R  43.688905 -79.554724\n",
              "101         M9V  43.739416 -79.588437\n",
              "102         M9W  43.706748 -79.594054\n",
              "\n",
              "[103 rows x 3 columns]>"
            ]
          },
          "metadata": {
            "tags": []
          },
          "execution_count": 28
        }
      ]
    },
    {
      "cell_type": "markdown",
      "metadata": {
        "id": "z9b1dhi-dSl2",
        "colab_type": "text"
      },
      "source": [
        "#### Usando a função **merge** para unir os DataFrames"
      ]
    },
    {
      "cell_type": "code",
      "metadata": {
        "id": "t4HeBPkRa15T",
        "colab_type": "code",
        "colab": {}
      },
      "source": [
        "data = pd.merge(df1, latlog)"
      ],
      "execution_count": 0,
      "outputs": []
    },
    {
      "cell_type": "code",
      "metadata": {
        "id": "oZapG0tGb-bo",
        "colab_type": "code",
        "colab": {
          "base_uri": "https://localhost:8080/",
          "height": 669
        },
        "outputId": "8d9388d1-fe1d-4fee-bea8-a2d4b77307cf"
      },
      "source": [
        "data.head(20)"
      ],
      "execution_count": 31,
      "outputs": [
        {
          "output_type": "execute_result",
          "data": {
            "text/html": [
              "<div>\n",
              "<style scoped>\n",
              "    .dataframe tbody tr th:only-of-type {\n",
              "        vertical-align: middle;\n",
              "    }\n",
              "\n",
              "    .dataframe tbody tr th {\n",
              "        vertical-align: top;\n",
              "    }\n",
              "\n",
              "    .dataframe thead th {\n",
              "        text-align: right;\n",
              "    }\n",
              "</style>\n",
              "<table border=\"1\" class=\"dataframe\">\n",
              "  <thead>\n",
              "    <tr style=\"text-align: right;\">\n",
              "      <th></th>\n",
              "      <th>Postal Code</th>\n",
              "      <th>Borough</th>\n",
              "      <th>Neighborhood</th>\n",
              "      <th>Latitude</th>\n",
              "      <th>Longitude</th>\n",
              "    </tr>\n",
              "  </thead>\n",
              "  <tbody>\n",
              "    <tr>\n",
              "      <th>0</th>\n",
              "      <td>M3A</td>\n",
              "      <td>North York</td>\n",
              "      <td>Parkwoods</td>\n",
              "      <td>43.753259</td>\n",
              "      <td>-79.329656</td>\n",
              "    </tr>\n",
              "    <tr>\n",
              "      <th>1</th>\n",
              "      <td>M4A</td>\n",
              "      <td>North York</td>\n",
              "      <td>Victoria Village</td>\n",
              "      <td>43.725882</td>\n",
              "      <td>-79.315572</td>\n",
              "    </tr>\n",
              "    <tr>\n",
              "      <th>2</th>\n",
              "      <td>M5A</td>\n",
              "      <td>Downtown Toronto</td>\n",
              "      <td>Regent Park, Harbourfront</td>\n",
              "      <td>43.654260</td>\n",
              "      <td>-79.360636</td>\n",
              "    </tr>\n",
              "    <tr>\n",
              "      <th>3</th>\n",
              "      <td>M6A</td>\n",
              "      <td>North York</td>\n",
              "      <td>Lawrence Manor, Lawrence Heights</td>\n",
              "      <td>43.718518</td>\n",
              "      <td>-79.464763</td>\n",
              "    </tr>\n",
              "    <tr>\n",
              "      <th>4</th>\n",
              "      <td>M7A</td>\n",
              "      <td>Downtown Toronto</td>\n",
              "      <td>Queen's Park, Ontario Provincial Government</td>\n",
              "      <td>43.662301</td>\n",
              "      <td>-79.389494</td>\n",
              "    </tr>\n",
              "    <tr>\n",
              "      <th>5</th>\n",
              "      <td>M9A</td>\n",
              "      <td>Etobicoke</td>\n",
              "      <td>Islington Avenue</td>\n",
              "      <td>43.667856</td>\n",
              "      <td>-79.532242</td>\n",
              "    </tr>\n",
              "    <tr>\n",
              "      <th>6</th>\n",
              "      <td>M1B</td>\n",
              "      <td>Scarborough</td>\n",
              "      <td>Malvern, Rouge</td>\n",
              "      <td>43.806686</td>\n",
              "      <td>-79.194353</td>\n",
              "    </tr>\n",
              "    <tr>\n",
              "      <th>7</th>\n",
              "      <td>M3B</td>\n",
              "      <td>North York</td>\n",
              "      <td>Don Mills</td>\n",
              "      <td>43.745906</td>\n",
              "      <td>-79.352188</td>\n",
              "    </tr>\n",
              "    <tr>\n",
              "      <th>8</th>\n",
              "      <td>M4B</td>\n",
              "      <td>East York</td>\n",
              "      <td>Parkview Hill, Woodbine Gardens</td>\n",
              "      <td>43.706397</td>\n",
              "      <td>-79.309937</td>\n",
              "    </tr>\n",
              "    <tr>\n",
              "      <th>9</th>\n",
              "      <td>M5B</td>\n",
              "      <td>Downtown Toronto</td>\n",
              "      <td>Garden District, Ryerson</td>\n",
              "      <td>43.657162</td>\n",
              "      <td>-79.378937</td>\n",
              "    </tr>\n",
              "    <tr>\n",
              "      <th>10</th>\n",
              "      <td>M6B</td>\n",
              "      <td>North York</td>\n",
              "      <td>Glencairn</td>\n",
              "      <td>43.709577</td>\n",
              "      <td>-79.445073</td>\n",
              "    </tr>\n",
              "    <tr>\n",
              "      <th>11</th>\n",
              "      <td>M9B</td>\n",
              "      <td>Etobicoke</td>\n",
              "      <td>West Deane Park, Princess Gardens, Martin Grov...</td>\n",
              "      <td>43.650943</td>\n",
              "      <td>-79.554724</td>\n",
              "    </tr>\n",
              "    <tr>\n",
              "      <th>12</th>\n",
              "      <td>M1C</td>\n",
              "      <td>Scarborough</td>\n",
              "      <td>Rouge Hill, Port Union, Highland Creek</td>\n",
              "      <td>43.784535</td>\n",
              "      <td>-79.160497</td>\n",
              "    </tr>\n",
              "    <tr>\n",
              "      <th>13</th>\n",
              "      <td>M3C</td>\n",
              "      <td>North York</td>\n",
              "      <td>Don Mills</td>\n",
              "      <td>43.725900</td>\n",
              "      <td>-79.340923</td>\n",
              "    </tr>\n",
              "    <tr>\n",
              "      <th>14</th>\n",
              "      <td>M4C</td>\n",
              "      <td>East York</td>\n",
              "      <td>Woodbine Heights</td>\n",
              "      <td>43.695344</td>\n",
              "      <td>-79.318389</td>\n",
              "    </tr>\n",
              "    <tr>\n",
              "      <th>15</th>\n",
              "      <td>M5C</td>\n",
              "      <td>Downtown Toronto</td>\n",
              "      <td>St. James Town</td>\n",
              "      <td>43.651494</td>\n",
              "      <td>-79.375418</td>\n",
              "    </tr>\n",
              "    <tr>\n",
              "      <th>16</th>\n",
              "      <td>M6C</td>\n",
              "      <td>York</td>\n",
              "      <td>Humewood-Cedarvale</td>\n",
              "      <td>43.693781</td>\n",
              "      <td>-79.428191</td>\n",
              "    </tr>\n",
              "    <tr>\n",
              "      <th>17</th>\n",
              "      <td>M9C</td>\n",
              "      <td>Etobicoke</td>\n",
              "      <td>Eringate, Bloordale Gardens, Old Burnhamthorpe...</td>\n",
              "      <td>43.643515</td>\n",
              "      <td>-79.577201</td>\n",
              "    </tr>\n",
              "    <tr>\n",
              "      <th>18</th>\n",
              "      <td>M1E</td>\n",
              "      <td>Scarborough</td>\n",
              "      <td>Guildwood, Morningside, West Hill</td>\n",
              "      <td>43.763573</td>\n",
              "      <td>-79.188711</td>\n",
              "    </tr>\n",
              "    <tr>\n",
              "      <th>19</th>\n",
              "      <td>M4E</td>\n",
              "      <td>East Toronto</td>\n",
              "      <td>The Beaches</td>\n",
              "      <td>43.676357</td>\n",
              "      <td>-79.293031</td>\n",
              "    </tr>\n",
              "  </tbody>\n",
              "</table>\n",
              "</div>"
            ],
            "text/plain": [
              "   Postal Code           Borough  ...   Latitude  Longitude\n",
              "0          M3A        North York  ...  43.753259 -79.329656\n",
              "1          M4A        North York  ...  43.725882 -79.315572\n",
              "2          M5A  Downtown Toronto  ...  43.654260 -79.360636\n",
              "3          M6A        North York  ...  43.718518 -79.464763\n",
              "4          M7A  Downtown Toronto  ...  43.662301 -79.389494\n",
              "5          M9A         Etobicoke  ...  43.667856 -79.532242\n",
              "6          M1B       Scarborough  ...  43.806686 -79.194353\n",
              "7          M3B        North York  ...  43.745906 -79.352188\n",
              "8          M4B         East York  ...  43.706397 -79.309937\n",
              "9          M5B  Downtown Toronto  ...  43.657162 -79.378937\n",
              "10         M6B        North York  ...  43.709577 -79.445073\n",
              "11         M9B         Etobicoke  ...  43.650943 -79.554724\n",
              "12         M1C       Scarborough  ...  43.784535 -79.160497\n",
              "13         M3C        North York  ...  43.725900 -79.340923\n",
              "14         M4C         East York  ...  43.695344 -79.318389\n",
              "15         M5C  Downtown Toronto  ...  43.651494 -79.375418\n",
              "16         M6C              York  ...  43.693781 -79.428191\n",
              "17         M9C         Etobicoke  ...  43.643515 -79.577201\n",
              "18         M1E       Scarborough  ...  43.763573 -79.188711\n",
              "19         M4E      East Toronto  ...  43.676357 -79.293031\n",
              "\n",
              "[20 rows x 5 columns]"
            ]
          },
          "metadata": {
            "tags": []
          },
          "execution_count": 31
        }
      ]
    },
    {
      "cell_type": "code",
      "metadata": {
        "id": "0gdg4bs2cBKM",
        "colab_type": "code",
        "colab": {}
      },
      "source": [
        ""
      ],
      "execution_count": 0,
      "outputs": []
    }
  ]
}