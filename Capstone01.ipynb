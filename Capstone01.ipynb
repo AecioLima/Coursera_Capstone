{
 "cells": [
  {
   "cell_type": "code",
   "execution_count": 2,
   "metadata": {},
   "outputs": [
    {
     "name": "stdout",
     "output_type": "stream",
     "text": [
      "Collecting pip\n",
      "  Downloading pip-20.1.1-py2.py3-none-any.whl (1.5 MB)\n",
      "Installing collected packages: pip\n",
      "  Attempting uninstall: pip\n",
      "    Found existing installation: pip 20.1\n",
      "    Uninstalling pip-20.1:\n",
      "      Successfully uninstalled pip-20.1\n"
     ]
    },
    {
     "name": "stderr",
     "output_type": "stream",
     "text": [
      "ERROR: Could not install packages due to an EnvironmentError: [WinError 5] Acesso negado: 'C:\\\\Users\\\\AATL\\\\AppData\\\\Local\\\\Temp\\\\pip-uninstall-igigrdq1\\\\pip.exe'\n",
      "Consider using the `--user` option or check the permissions.\n",
      "\n"
     ]
    },
    {
     "name": "stdout",
     "output_type": "stream",
     "text": [
      "ok\n"
     ]
    }
   ],
   "source": [
    "!pip install --upgrade pip\n",
    "!pip install -q tabulate\n",
    "print('ok')"
   ]
  },
  {
   "cell_type": "code",
   "execution_count": 3,
   "metadata": {},
   "outputs": [],
   "source": [
    "import pandas as pd\n",
    "import requests\n",
    "from bs4 import BeautifulSoup \n",
    "from tabulate import tabulate"
   ]
  },
  {
   "cell_type": "code",
   "execution_count": 4,
   "metadata": {},
   "outputs": [
    {
     "name": "stdout",
     "output_type": "stream",
     "text": [
      "+-----+---------------+------------------+----------------------------------------------------------------------------------------------------------------------------------------+\n",
      "|     | Postal Code   | Borough          | Neighborhood                                                                                                                           |\n",
      "|-----+---------------+------------------+----------------------------------------------------------------------------------------------------------------------------------------|\n",
      "|   0 | M1A           | Not assigned     | nan                                                                                                                                    |\n",
      "|   1 | M2A           | Not assigned     | nan                                                                                                                                    |\n",
      "|   2 | M3A           | North York       | Parkwoods                                                                                                                              |\n",
      "|   3 | M4A           | North York       | Victoria Village                                                                                                                       |\n",
      "|   4 | M5A           | Downtown Toronto | Regent Park, Harbourfront                                                                                                              |\n",
      "|   5 | M6A           | North York       | Lawrence Manor, Lawrence Heights                                                                                                       |\n",
      "|   6 | M7A           | Downtown Toronto | Queen's Park, Ontario Provincial Government                                                                                            |\n",
      "|   7 | M8A           | Not assigned     | nan                                                                                                                                    |\n",
      "|   8 | M9A           | Etobicoke        | Islington Avenue                                                                                                                       |\n",
      "|   9 | M1B           | Scarborough      | Malvern, Rouge                                                                                                                         |\n",
      "|  10 | M2B           | Not assigned     | nan                                                                                                                                    |\n",
      "|  11 | M3B           | North York       | Don Mills                                                                                                                              |\n",
      "|  12 | M4B           | East York        | Parkview Hill, Woodbine Gardens                                                                                                        |\n",
      "|  13 | M5B           | Downtown Toronto | Garden District, Ryerson                                                                                                               |\n",
      "|  14 | M6B           | North York       | Glencairn                                                                                                                              |\n",
      "|  15 | M7B           | Not assigned     | nan                                                                                                                                    |\n",
      "|  16 | M8B           | Not assigned     | nan                                                                                                                                    |\n",
      "|  17 | M9B           | Etobicoke        | West Deane Park, Princess Gardens, Martin Grove, Islington, Cloverdale                                                                 |\n",
      "|  18 | M1C           | Scarborough      | Rouge Hill, Port Union, Highland Creek                                                                                                 |\n",
      "|  19 | M2C           | Not assigned     | nan                                                                                                                                    |\n",
      "|  20 | M3C           | North York       | Don Mills                                                                                                                              |\n",
      "|  21 | M4C           | East York        | Woodbine Heights                                                                                                                       |\n",
      "|  22 | M5C           | Downtown Toronto | St. James Town                                                                                                                         |\n",
      "|  23 | M6C           | York             | Humewood-Cedarvale                                                                                                                     |\n",
      "|  24 | M7C           | Not assigned     | nan                                                                                                                                    |\n",
      "|  25 | M8C           | Not assigned     | nan                                                                                                                                    |\n",
      "|  26 | M9C           | Etobicoke        | Eringate, Bloordale Gardens, Old Burnhamthorpe, Markland Wood                                                                          |\n",
      "|  27 | M1E           | Scarborough      | Guildwood, Morningside, West Hill                                                                                                      |\n",
      "|  28 | M2E           | Not assigned     | nan                                                                                                                                    |\n",
      "|  29 | M3E           | Not assigned     | nan                                                                                                                                    |\n",
      "|  30 | M4E           | East Toronto     | The Beaches                                                                                                                            |\n",
      "|  31 | M5E           | Downtown Toronto | Berczy Park                                                                                                                            |\n",
      "|  32 | M6E           | York             | Caledonia-Fairbanks                                                                                                                    |\n",
      "|  33 | M7E           | Not assigned     | nan                                                                                                                                    |\n",
      "|  34 | M8E           | Not assigned     | nan                                                                                                                                    |\n",
      "|  35 | M9E           | Not assigned     | nan                                                                                                                                    |\n",
      "|  36 | M1G           | Scarborough      | Woburn                                                                                                                                 |\n",
      "|  37 | M2G           | Not assigned     | nan                                                                                                                                    |\n",
      "|  38 | M3G           | Not assigned     | nan                                                                                                                                    |\n",
      "|  39 | M4G           | East York        | Leaside                                                                                                                                |\n",
      "|  40 | M5G           | Downtown Toronto | Central Bay Street                                                                                                                     |\n",
      "|  41 | M6G           | Downtown Toronto | Christie                                                                                                                               |\n",
      "|  42 | M7G           | Not assigned     | nan                                                                                                                                    |\n",
      "|  43 | M8G           | Not assigned     | nan                                                                                                                                    |\n",
      "|  44 | M9G           | Not assigned     | nan                                                                                                                                    |\n",
      "|  45 | M1H           | Scarborough      | Cedarbrae                                                                                                                              |\n",
      "|  46 | M2H           | North York       | Hillcrest Village                                                                                                                      |\n",
      "|  47 | M3H           | North York       | Bathurst Manor, Wilson Heights, Downsview North                                                                                        |\n",
      "|  48 | M4H           | East York        | Thorncliffe Park                                                                                                                       |\n",
      "|  49 | M5H           | Downtown Toronto | Richmond, Adelaide, King                                                                                                               |\n",
      "|  50 | M6H           | West Toronto     | Dufferin, Dovercourt Village                                                                                                           |\n",
      "|  51 | M7H           | Not assigned     | nan                                                                                                                                    |\n",
      "|  52 | M8H           | Not assigned     | nan                                                                                                                                    |\n",
      "|  53 | M9H           | Not assigned     | nan                                                                                                                                    |\n",
      "|  54 | M1J           | Scarborough      | Scarborough Village                                                                                                                    |\n",
      "|  55 | M2J           | North York       | Fairview, Henry Farm, Oriole                                                                                                           |\n",
      "|  56 | M3J           | North York       | Northwood Park, York University                                                                                                        |\n",
      "|  57 | M4J           | East York        | East Toronto                                                                                                                           |\n",
      "|  58 | M5J           | Downtown Toronto | Harbourfront East, Union Station, Toronto Islands                                                                                      |\n",
      "|  59 | M6J           | West Toronto     | Little Portugal, Trinity                                                                                                               |\n",
      "|  60 | M7J           | Not assigned     | nan                                                                                                                                    |\n",
      "|  61 | M8J           | Not assigned     | nan                                                                                                                                    |\n",
      "|  62 | M9J           | Not assigned     | nan                                                                                                                                    |\n",
      "|  63 | M1K           | Scarborough      | Kennedy Park, Ionview, East Birchmount Park                                                                                            |\n",
      "|  64 | M2K           | North York       | Bayview Village                                                                                                                        |\n",
      "|  65 | M3K           | North York       | Downsview                                                                                                                              |\n",
      "|  66 | M4K           | East Toronto     | The Danforth West, Riverdale                                                                                                           |\n",
      "|  67 | M5K           | Downtown Toronto | Toronto Dominion Centre, Design Exchange                                                                                               |\n",
      "|  68 | M6K           | West Toronto     | Brockton, Parkdale Village, Exhibition Place                                                                                           |\n",
      "|  69 | M7K           | Not assigned     | nan                                                                                                                                    |\n",
      "|  70 | M8K           | Not assigned     | nan                                                                                                                                    |\n",
      "|  71 | M9K           | Not assigned     | nan                                                                                                                                    |\n",
      "|  72 | M1L           | Scarborough      | Golden Mile, Clairlea, Oakridge                                                                                                        |\n",
      "|  73 | M2L           | North York       | York Mills, Silver Hills                                                                                                               |\n",
      "|  74 | M3L           | North York       | Downsview                                                                                                                              |\n",
      "|  75 | M4L           | East Toronto     | India Bazaar, The Beaches West                                                                                                         |\n",
      "|  76 | M5L           | Downtown Toronto | Commerce Court, Victoria Hotel                                                                                                         |\n",
      "|  77 | M6L           | North York       | North Park, Maple Leaf Park, Upwood Park                                                                                               |\n",
      "|  78 | M7L           | Not assigned     | nan                                                                                                                                    |\n",
      "|  79 | M8L           | Not assigned     | nan                                                                                                                                    |\n",
      "|  80 | M9L           | North York       | Humber Summit                                                                                                                          |\n",
      "|  81 | M1M           | Scarborough      | Cliffside, Cliffcrest, Scarborough Village West                                                                                        |\n",
      "|  82 | M2M           | North York       | Willowdale, Newtonbrook                                                                                                                |\n",
      "|  83 | M3M           | North York       | Downsview                                                                                                                              |\n",
      "|  84 | M4M           | East Toronto     | Studio District                                                                                                                        |\n",
      "|  85 | M5M           | North York       | Bedford Park, Lawrence Manor East                                                                                                      |\n",
      "|  86 | M6M           | York             | Del Ray, Mount Dennis, Keelsdale and Silverthorn                                                                                       |\n",
      "|  87 | M7M           | Not assigned     | nan                                                                                                                                    |\n",
      "|  88 | M8M           | Not assigned     | nan                                                                                                                                    |\n",
      "|  89 | M9M           | North York       | Humberlea, Emery                                                                                                                       |\n",
      "|  90 | M1N           | Scarborough      | Birch Cliff, Cliffside West                                                                                                            |\n",
      "|  91 | M2N           | North York       | Willowdale                                                                                                                             |\n",
      "|  92 | M3N           | North York       | Downsview                                                                                                                              |\n",
      "|  93 | M4N           | Central Toronto  | Lawrence Park                                                                                                                          |\n",
      "|  94 | M5N           | Central Toronto  | Roselawn                                                                                                                               |\n",
      "|  95 | M6N           | York             | Runnymede, The Junction North                                                                                                          |\n",
      "|  96 | M7N           | Not assigned     | nan                                                                                                                                    |\n",
      "|  97 | M8N           | Not assigned     | nan                                                                                                                                    |\n",
      "|  98 | M9N           | York             | Weston                                                                                                                                 |\n",
      "|  99 | M1P           | Scarborough      | Dorset Park, Wexford Heights, Scarborough Town Centre                                                                                  |\n",
      "| 100 | M2P           | North York       | York Mills West                                                                                                                        |\n",
      "| 101 | M3P           | Not assigned     | nan                                                                                                                                    |\n",
      "| 102 | M4P           | Central Toronto  | Davisville North                                                                                                                       |\n",
      "| 103 | M5P           | Central Toronto  | Forest Hill North & West                                                                                                               |\n",
      "| 104 | M6P           | West Toronto     | High Park, The Junction South                                                                                                          |\n",
      "| 105 | M7P           | Not assigned     | nan                                                                                                                                    |\n",
      "| 106 | M8P           | Not assigned     | nan                                                                                                                                    |\n",
      "| 107 | M9P           | Etobicoke        | Westmount                                                                                                                              |\n",
      "| 108 | M1R           | Scarborough      | Wexford, Maryvale                                                                                                                      |\n",
      "| 109 | M2R           | North York       | Willowdale                                                                                                                             |\n",
      "| 110 | M3R           | Not assigned     | nan                                                                                                                                    |\n",
      "| 111 | M4R           | Central Toronto  | North Toronto West                                                                                                                     |\n",
      "| 112 | M5R           | Central Toronto  | The Annex, North Midtown, Yorkville                                                                                                    |\n",
      "| 113 | M6R           | West Toronto     | Parkdale, Roncesvalles                                                                                                                 |\n",
      "| 114 | M7R           | Mississauga      | Canada Post Gateway Processing Centre                                                                                                  |\n",
      "| 115 | M8R           | Not assigned     | nan                                                                                                                                    |\n",
      "| 116 | M9R           | Etobicoke        | Kingsview Village, St. Phillips, Martin Grove Gardens, Richview Gardens                                                                |\n",
      "| 117 | M1S           | Scarborough      | Agincourt                                                                                                                              |\n",
      "| 118 | M2S           | Not assigned     | nan                                                                                                                                    |\n",
      "| 119 | M3S           | Not assigned     | nan                                                                                                                                    |\n",
      "| 120 | M4S           | Central Toronto  | Davisville                                                                                                                             |\n",
      "| 121 | M5S           | Downtown Toronto | University of Toronto, Harbord                                                                                                         |\n",
      "| 122 | M6S           | West Toronto     | Runnymede, Swansea                                                                                                                     |\n",
      "| 123 | M7S           | Not assigned     | nan                                                                                                                                    |\n",
      "| 124 | M8S           | Not assigned     | nan                                                                                                                                    |\n",
      "| 125 | M9S           | Not assigned     | nan                                                                                                                                    |\n",
      "| 126 | M1T           | Scarborough      | Clarks Corners, Tam O'Shanter, Sullivan                                                                                                |\n",
      "| 127 | M2T           | Not assigned     | nan                                                                                                                                    |\n",
      "| 128 | M3T           | Not assigned     | nan                                                                                                                                    |\n",
      "| 129 | M4T           | Central Toronto  | Moore Park, Summerhill East                                                                                                            |\n",
      "| 130 | M5T           | Downtown Toronto | Kensington Market, Chinatown, Grange Park                                                                                              |\n",
      "| 131 | M6T           | Not assigned     | nan                                                                                                                                    |\n",
      "| 132 | M7T           | Not assigned     | nan                                                                                                                                    |\n",
      "| 133 | M8T           | Not assigned     | nan                                                                                                                                    |\n",
      "| 134 | M9T           | Not assigned     | nan                                                                                                                                    |\n",
      "| 135 | M1V           | Scarborough      | Milliken, Agincourt North, Steeles East, L'Amoreaux East                                                                               |\n",
      "| 136 | M2V           | Not assigned     | nan                                                                                                                                    |\n",
      "| 137 | M3V           | Not assigned     | nan                                                                                                                                    |\n",
      "| 138 | M4V           | Central Toronto  | Summerhill West, Rathnelly, South Hill, Forest Hill SE, Deer Park                                                                      |\n",
      "| 139 | M5V           | Downtown Toronto | CN Tower, King and Spadina, Railway Lands, Harbourfront West, Bathurst Quay, South Niagara, Island airport                             |\n",
      "| 140 | M6V           | Not assigned     | nan                                                                                                                                    |\n",
      "| 141 | M7V           | Not assigned     | nan                                                                                                                                    |\n",
      "| 142 | M8V           | Etobicoke        | New Toronto, Mimico South, Humber Bay Shores                                                                                           |\n",
      "| 143 | M9V           | Etobicoke        | South Steeles, Silverstone, Humbergate, Jamestown, Mount Olive, Beaumond Heights, Thistletown, Albion Gardens                          |\n",
      "| 144 | M1W           | Scarborough      | Steeles West, L'Amoreaux West                                                                                                          |\n",
      "| 145 | M2W           | Not assigned     | nan                                                                                                                                    |\n",
      "| 146 | M3W           | Not assigned     | nan                                                                                                                                    |\n",
      "| 147 | M4W           | Downtown Toronto | Rosedale                                                                                                                               |\n",
      "| 148 | M5W           | Downtown Toronto | Stn A PO Boxes                                                                                                                         |\n",
      "| 149 | M6W           | Not assigned     | nan                                                                                                                                    |\n",
      "| 150 | M7W           | Not assigned     | nan                                                                                                                                    |\n",
      "| 151 | M8W           | Etobicoke        | Alderwood, Long Branch                                                                                                                 |\n",
      "| 152 | M9W           | Etobicoke        | Northwest                                                                                                                              |\n",
      "| 153 | M1X           | Scarborough      | Upper Rouge                                                                                                                            |\n",
      "| 154 | M2X           | Not assigned     | nan                                                                                                                                    |\n",
      "| 155 | M3X           | Not assigned     | nan                                                                                                                                    |\n",
      "| 156 | M4X           | Downtown Toronto | St. James Town, Cabbagetown                                                                                                            |\n",
      "| 157 | M5X           | Downtown Toronto | First Canadian Place, Underground city                                                                                                 |\n",
      "| 158 | M6X           | Not assigned     | nan                                                                                                                                    |\n",
      "| 159 | M7X           | Not assigned     | nan                                                                                                                                    |\n",
      "| 160 | M8X           | Etobicoke        | The Kingsway, Montgomery Road, Old Mill North                                                                                          |\n",
      "| 161 | M9X           | Not assigned     | nan                                                                                                                                    |\n",
      "| 162 | M1Y           | Not assigned     | nan                                                                                                                                    |\n",
      "| 163 | M2Y           | Not assigned     | nan                                                                                                                                    |\n",
      "| 164 | M3Y           | Not assigned     | nan                                                                                                                                    |\n",
      "| 165 | M4Y           | Downtown Toronto | Church and Wellesley                                                                                                                   |\n",
      "| 166 | M5Y           | Not assigned     | nan                                                                                                                                    |\n",
      "| 167 | M6Y           | Not assigned     | nan                                                                                                                                    |\n",
      "| 168 | M7Y           | East Toronto     | Business reply mail Processing Centre                                                                                                  |\n",
      "| 169 | M8Y           | Etobicoke        | Old Mill South, King's Mill Park, Sunnylea, Humber Bay, Mimico NE, The Queensway East, Royal York South East, Kingsway Park South East |\n",
      "| 170 | M9Y           | Not assigned     | nan                                                                                                                                    |\n",
      "| 171 | M1Z           | Not assigned     | nan                                                                                                                                    |\n",
      "| 172 | M2Z           | Not assigned     | nan                                                                                                                                    |\n",
      "| 173 | M3Z           | Not assigned     | nan                                                                                                                                    |\n",
      "| 174 | M4Z           | Not assigned     | nan                                                                                                                                    |\n",
      "| 175 | M5Z           | Not assigned     | nan                                                                                                                                    |\n",
      "| 176 | M6Z           | Not assigned     | nan                                                                                                                                    |\n",
      "| 177 | M7Z           | Not assigned     | nan                                                                                                                                    |\n",
      "| 178 | M8Z           | Etobicoke        | Mimico NW, The Queensway West, South of Bloor, Kingsway Park South West, Royal York South West                                         |\n",
      "| 179 | M9Z           | Not assigned     | nan                                                                                                                                    |\n",
      "+-----+---------------+------------------+----------------------------------------------------------------------------------------------------------------------------------------+\n"
     ]
    }
   ],
   "source": [
    "res = requests.get(\"https://en.wikipedia.org/wiki/List_of_postal_codes_of_Canada:_M\")\n",
    "soup = BeautifulSoup(res.content,'lxml')\n",
    "table = soup.find_all('table')[0] \n",
    "df = pd.read_html(str(table))\n",
    "print( tabulate(df[0], headers='keys', tablefmt='psql') )"
   ]
  },
  {
   "cell_type": "code",
   "execution_count": 10,
   "metadata": {},
   "outputs": [
    {
     "name": "stdout",
     "output_type": "stream",
     "text": [
      "0          Not assigned\n",
      "1          Not assigned\n",
      "2            North York\n",
      "3            North York\n",
      "4      Downtown Toronto\n",
      "             ...       \n",
      "175        Not assigned\n",
      "176        Not assigned\n",
      "177        Not assigned\n",
      "178           Etobicoke\n",
      "179        Not assigned\n",
      "Name: Borough, Length: 180, dtype: object\n"
     ]
    }
   ],
   "source": [
    "print(df[0]['Borough'])"
   ]
  },
  {
   "cell_type": "code",
   "execution_count": 16,
   "metadata": {},
   "outputs": [],
   "source": [
    "df = pd.read_html(str(table))[0]\n",
    "postalcode = df[\"Postal Code\"].tolist()\n",
    "borough = df[\"Borough\"].tolist()\n",
    "neigh = df[\"Neighborhood\"].tolist()"
   ]
  },
  {
   "cell_type": "code",
   "execution_count": 26,
   "metadata": {},
   "outputs": [
    {
     "data": {
      "text/plain": [
       "'M1C'"
      ]
     },
     "execution_count": 26,
     "metadata": {},
     "output_type": "execute_result"
    }
   ],
   "source": [
    "postalcode[18]"
   ]
  },
  {
   "cell_type": "code",
   "execution_count": 27,
   "metadata": {},
   "outputs": [
    {
     "data": {
      "text/plain": [
       "'Rouge Hill, Port Union, Highland Creek'"
      ]
     },
     "execution_count": 27,
     "metadata": {},
     "output_type": "execute_result"
    }
   ],
   "source": [
    "neigh[18]"
   ]
  },
  {
   "cell_type": "code",
   "execution_count": 28,
   "metadata": {},
   "outputs": [
    {
     "data": {
      "text/plain": [
       "'Scarborough'"
      ]
     },
     "execution_count": 28,
     "metadata": {},
     "output_type": "execute_result"
    }
   ],
   "source": [
    "borough[18]"
   ]
  },
  {
   "cell_type": "code",
   "execution_count": 38,
   "metadata": {},
   "outputs": [],
   "source": [
    "macrolist = []"
   ]
  },
  {
   "cell_type": "code",
   "execution_count": 39,
   "metadata": {},
   "outputs": [],
   "source": [
    "macrolist.append(postalcode)"
   ]
  },
  {
   "cell_type": "code",
   "execution_count": 40,
   "metadata": {},
   "outputs": [],
   "source": [
    "macrolist.append(borough)"
   ]
  },
  {
   "cell_type": "code",
   "execution_count": 41,
   "metadata": {},
   "outputs": [],
   "source": [
    "macrolist.append(neigh)"
   ]
  },
  {
   "cell_type": "code",
   "execution_count": 42,
   "metadata": {},
   "outputs": [
    {
     "name": "stdout",
     "output_type": "stream",
     "text": [
      "[['M1A', 'M2A', 'M3A', 'M4A', 'M5A', 'M6A', 'M7A', 'M8A', 'M9A', 'M1B', 'M2B', 'M3B', 'M4B', 'M5B', 'M6B', 'M7B', 'M8B', 'M9B', 'M1C', 'M2C', 'M3C', 'M4C', 'M5C', 'M6C', 'M7C', 'M8C', 'M9C', 'M1E', 'M2E', 'M3E', 'M4E', 'M5E', 'M6E', 'M7E', 'M8E', 'M9E', 'M1G', 'M2G', 'M3G', 'M4G', 'M5G', 'M6G', 'M7G', 'M8G', 'M9G', 'M1H', 'M2H', 'M3H', 'M4H', 'M5H', 'M6H', 'M7H', 'M8H', 'M9H', 'M1J', 'M2J', 'M3J', 'M4J', 'M5J', 'M6J', 'M7J', 'M8J', 'M9J', 'M1K', 'M2K', 'M3K', 'M4K', 'M5K', 'M6K', 'M7K', 'M8K', 'M9K', 'M1L', 'M2L', 'M3L', 'M4L', 'M5L', 'M6L', 'M7L', 'M8L', 'M9L', 'M1M', 'M2M', 'M3M', 'M4M', 'M5M', 'M6M', 'M7M', 'M8M', 'M9M', 'M1N', 'M2N', 'M3N', 'M4N', 'M5N', 'M6N', 'M7N', 'M8N', 'M9N', 'M1P', 'M2P', 'M3P', 'M4P', 'M5P', 'M6P', 'M7P', 'M8P', 'M9P', 'M1R', 'M2R', 'M3R', 'M4R', 'M5R', 'M6R', 'M7R', 'M8R', 'M9R', 'M1S', 'M2S', 'M3S', 'M4S', 'M5S', 'M6S', 'M7S', 'M8S', 'M9S', 'M1T', 'M2T', 'M3T', 'M4T', 'M5T', 'M6T', 'M7T', 'M8T', 'M9T', 'M1V', 'M2V', 'M3V', 'M4V', 'M5V', 'M6V', 'M7V', 'M8V', 'M9V', 'M1W', 'M2W', 'M3W', 'M4W', 'M5W', 'M6W', 'M7W', 'M8W', 'M9W', 'M1X', 'M2X', 'M3X', 'M4X', 'M5X', 'M6X', 'M7X', 'M8X', 'M9X', 'M1Y', 'M2Y', 'M3Y', 'M4Y', 'M5Y', 'M6Y', 'M7Y', 'M8Y', 'M9Y', 'M1Z', 'M2Z', 'M3Z', 'M4Z', 'M5Z', 'M6Z', 'M7Z', 'M8Z', 'M9Z'], ['Not assigned', 'Not assigned', 'North York', 'North York', 'Downtown Toronto', 'North York', 'Downtown Toronto', 'Not assigned', 'Etobicoke', 'Scarborough', 'Not assigned', 'North York', 'East York', 'Downtown Toronto', 'North York', 'Not assigned', 'Not assigned', 'Etobicoke', 'Scarborough', 'Not assigned', 'North York', 'East York', 'Downtown Toronto', 'York', 'Not assigned', 'Not assigned', 'Etobicoke', 'Scarborough', 'Not assigned', 'Not assigned', 'East Toronto', 'Downtown Toronto', 'York', 'Not assigned', 'Not assigned', 'Not assigned', 'Scarborough', 'Not assigned', 'Not assigned', 'East York', 'Downtown Toronto', 'Downtown Toronto', 'Not assigned', 'Not assigned', 'Not assigned', 'Scarborough', 'North York', 'North York', 'East York', 'Downtown Toronto', 'West Toronto', 'Not assigned', 'Not assigned', 'Not assigned', 'Scarborough', 'North York', 'North York', 'East York', 'Downtown Toronto', 'West Toronto', 'Not assigned', 'Not assigned', 'Not assigned', 'Scarborough', 'North York', 'North York', 'East Toronto', 'Downtown Toronto', 'West Toronto', 'Not assigned', 'Not assigned', 'Not assigned', 'Scarborough', 'North York', 'North York', 'East Toronto', 'Downtown Toronto', 'North York', 'Not assigned', 'Not assigned', 'North York', 'Scarborough', 'North York', 'North York', 'East Toronto', 'North York', 'York', 'Not assigned', 'Not assigned', 'North York', 'Scarborough', 'North York', 'North York', 'Central Toronto', 'Central Toronto', 'York', 'Not assigned', 'Not assigned', 'York', 'Scarborough', 'North York', 'Not assigned', 'Central Toronto', 'Central Toronto', 'West Toronto', 'Not assigned', 'Not assigned', 'Etobicoke', 'Scarborough', 'North York', 'Not assigned', 'Central Toronto', 'Central Toronto', 'West Toronto', 'Mississauga', 'Not assigned', 'Etobicoke', 'Scarborough', 'Not assigned', 'Not assigned', 'Central Toronto', 'Downtown Toronto', 'West Toronto', 'Not assigned', 'Not assigned', 'Not assigned', 'Scarborough', 'Not assigned', 'Not assigned', 'Central Toronto', 'Downtown Toronto', 'Not assigned', 'Not assigned', 'Not assigned', 'Not assigned', 'Scarborough', 'Not assigned', 'Not assigned', 'Central Toronto', 'Downtown Toronto', 'Not assigned', 'Not assigned', 'Etobicoke', 'Etobicoke', 'Scarborough', 'Not assigned', 'Not assigned', 'Downtown Toronto', 'Downtown Toronto', 'Not assigned', 'Not assigned', 'Etobicoke', 'Etobicoke', 'Scarborough', 'Not assigned', 'Not assigned', 'Downtown Toronto', 'Downtown Toronto', 'Not assigned', 'Not assigned', 'Etobicoke', 'Not assigned', 'Not assigned', 'Not assigned', 'Not assigned', 'Downtown Toronto', 'Not assigned', 'Not assigned', 'East Toronto', 'Etobicoke', 'Not assigned', 'Not assigned', 'Not assigned', 'Not assigned', 'Not assigned', 'Not assigned', 'Not assigned', 'Not assigned', 'Etobicoke', 'Not assigned'], [nan, nan, 'Parkwoods', 'Victoria Village', 'Regent Park, Harbourfront', 'Lawrence Manor, Lawrence Heights', \"Queen's Park, Ontario Provincial Government\", nan, 'Islington Avenue', 'Malvern, Rouge', nan, 'Don Mills', 'Parkview Hill, Woodbine Gardens', 'Garden District, Ryerson', 'Glencairn', nan, nan, 'West Deane Park, Princess Gardens, Martin Grove, Islington, Cloverdale', 'Rouge Hill, Port Union, Highland Creek', nan, 'Don Mills', 'Woodbine Heights', 'St. James Town', 'Humewood-Cedarvale', nan, nan, 'Eringate, Bloordale Gardens, Old Burnhamthorpe, Markland Wood', 'Guildwood, Morningside, West Hill', nan, nan, 'The Beaches', 'Berczy Park', 'Caledonia-Fairbanks', nan, nan, nan, 'Woburn', nan, nan, 'Leaside', 'Central Bay Street', 'Christie', nan, nan, nan, 'Cedarbrae', 'Hillcrest Village', 'Bathurst Manor, Wilson Heights, Downsview North', 'Thorncliffe Park', 'Richmond, Adelaide, King', 'Dufferin, Dovercourt Village', nan, nan, nan, 'Scarborough Village', 'Fairview, Henry Farm, Oriole', 'Northwood Park, York University', 'East Toronto', 'Harbourfront East, Union Station, Toronto Islands', 'Little Portugal, Trinity', nan, nan, nan, 'Kennedy Park, Ionview, East Birchmount Park', 'Bayview Village', 'Downsview', 'The Danforth West, Riverdale', 'Toronto Dominion Centre, Design Exchange', 'Brockton, Parkdale Village, Exhibition Place', nan, nan, nan, 'Golden Mile, Clairlea, Oakridge', 'York Mills, Silver Hills', 'Downsview', 'India Bazaar, The Beaches West', 'Commerce Court, Victoria Hotel', 'North Park, Maple Leaf Park, Upwood Park', nan, nan, 'Humber Summit', 'Cliffside, Cliffcrest, Scarborough Village West', 'Willowdale, Newtonbrook', 'Downsview', 'Studio District', 'Bedford Park, Lawrence Manor East', 'Del Ray, Mount Dennis, Keelsdale and Silverthorn', nan, nan, 'Humberlea, Emery', 'Birch Cliff, Cliffside West', 'Willowdale', 'Downsview', 'Lawrence Park', 'Roselawn', 'Runnymede, The Junction North', nan, nan, 'Weston', 'Dorset Park, Wexford Heights, Scarborough Town Centre', 'York Mills West', nan, 'Davisville North', 'Forest Hill North & West', 'High Park, The Junction South', nan, nan, 'Westmount', 'Wexford, Maryvale', 'Willowdale', nan, 'North Toronto West', 'The Annex, North Midtown, Yorkville', 'Parkdale, Roncesvalles', 'Canada Post Gateway Processing Centre', nan, 'Kingsview Village, St. Phillips, Martin Grove Gardens, Richview Gardens', 'Agincourt', nan, nan, 'Davisville', 'University of Toronto, Harbord', 'Runnymede, Swansea', nan, nan, nan, \"Clarks Corners, Tam O'Shanter, Sullivan\", nan, nan, 'Moore Park, Summerhill East', 'Kensington Market, Chinatown, Grange Park', nan, nan, nan, nan, \"Milliken, Agincourt North, Steeles East, L'Amoreaux East\", nan, nan, 'Summerhill West, Rathnelly, South Hill, Forest Hill SE, Deer Park', 'CN Tower, King and Spadina, Railway Lands, Harbourfront West, Bathurst Quay, South Niagara, Island airport', nan, nan, 'New Toronto, Mimico South, Humber Bay Shores', 'South Steeles, Silverstone, Humbergate, Jamestown, Mount Olive, Beaumond Heights, Thistletown, Albion Gardens', \"Steeles West, L'Amoreaux West\", nan, nan, 'Rosedale', 'Stn A PO Boxes', nan, nan, 'Alderwood, Long Branch', 'Northwest', 'Upper Rouge', nan, nan, 'St. James Town, Cabbagetown', 'First Canadian Place, Underground city', nan, nan, 'The Kingsway, Montgomery Road, Old Mill North', nan, nan, nan, nan, 'Church and Wellesley', nan, nan, 'Business reply mail Processing Centre', \"Old Mill South, King's Mill Park, Sunnylea, Humber Bay, Mimico NE, The Queensway East, Royal York South East, Kingsway Park South East\", nan, nan, nan, nan, nan, nan, nan, nan, 'Mimico NW, The Queensway West, South of Bloor, Kingsway Park South West, Royal York South West', nan]]\n"
     ]
    }
   ],
   "source": [
    "print(macrolist)"
   ]
  },
  {
   "cell_type": "code",
   "execution_count": null,
   "metadata": {},
   "outputs": [],
   "source": []
  },
  {
   "cell_type": "code",
   "execution_count": null,
   "metadata": {},
   "outputs": [],
   "source": []
  },
  {
   "cell_type": "code",
   "execution_count": null,
   "metadata": {},
   "outputs": [],
   "source": []
  },
  {
   "cell_type": "code",
   "execution_count": 43,
   "metadata": {},
   "outputs": [
    {
     "name": "stdout",
     "output_type": "stream",
     "text": [
      "    Postal Code           Borough  \\\n",
      "0           M1A      Not assigned   \n",
      "1           M2A      Not assigned   \n",
      "2           M3A        North York   \n",
      "3           M4A        North York   \n",
      "4           M5A  Downtown Toronto   \n",
      "..          ...               ...   \n",
      "175         M5Z      Not assigned   \n",
      "176         M6Z      Not assigned   \n",
      "177         M7Z      Not assigned   \n",
      "178         M8Z         Etobicoke   \n",
      "179         M9Z      Not assigned   \n",
      "\n",
      "                                          Neighborhood  \n",
      "0                                                  NaN  \n",
      "1                                                  NaN  \n",
      "2                                            Parkwoods  \n",
      "3                                     Victoria Village  \n",
      "4                            Regent Park, Harbourfront  \n",
      "..                                                 ...  \n",
      "175                                                NaN  \n",
      "176                                                NaN  \n",
      "177                                                NaN  \n",
      "178  Mimico NW, The Queensway West, South of Bloor,...  \n",
      "179                                                NaN  \n",
      "\n",
      "[180 rows x 3 columns]\n"
     ]
    }
   ],
   "source": [
    "from pandas import DataFrame\n",
    "df1 = DataFrame (macrolist).transpose()\n",
    "df1.columns = ['Postal Code','Borough','Neighborhood']\n",
    "print (df1)"
   ]
  },
  {
   "cell_type": "code",
   "execution_count": 45,
   "metadata": {},
   "outputs": [
    {
     "data": {
      "text/html": [
       "<div>\n",
       "<style scoped>\n",
       "    .dataframe tbody tr th:only-of-type {\n",
       "        vertical-align: middle;\n",
       "    }\n",
       "\n",
       "    .dataframe tbody tr th {\n",
       "        vertical-align: top;\n",
       "    }\n",
       "\n",
       "    .dataframe thead th {\n",
       "        text-align: right;\n",
       "    }\n",
       "</style>\n",
       "<table border=\"1\" class=\"dataframe\">\n",
       "  <thead>\n",
       "    <tr style=\"text-align: right;\">\n",
       "      <th></th>\n",
       "      <th>Postal Code</th>\n",
       "      <th>Borough</th>\n",
       "      <th>Neighborhood</th>\n",
       "    </tr>\n",
       "  </thead>\n",
       "  <tbody>\n",
       "    <tr>\n",
       "      <th>0</th>\n",
       "      <td>M1A</td>\n",
       "      <td>Not assigned</td>\n",
       "      <td>NaN</td>\n",
       "    </tr>\n",
       "    <tr>\n",
       "      <th>1</th>\n",
       "      <td>M2A</td>\n",
       "      <td>Not assigned</td>\n",
       "      <td>NaN</td>\n",
       "    </tr>\n",
       "    <tr>\n",
       "      <th>2</th>\n",
       "      <td>M3A</td>\n",
       "      <td>North York</td>\n",
       "      <td>Parkwoods</td>\n",
       "    </tr>\n",
       "    <tr>\n",
       "      <th>3</th>\n",
       "      <td>M4A</td>\n",
       "      <td>North York</td>\n",
       "      <td>Victoria Village</td>\n",
       "    </tr>\n",
       "    <tr>\n",
       "      <th>4</th>\n",
       "      <td>M5A</td>\n",
       "      <td>Downtown Toronto</td>\n",
       "      <td>Regent Park, Harbourfront</td>\n",
       "    </tr>\n",
       "    <tr>\n",
       "      <th>5</th>\n",
       "      <td>M6A</td>\n",
       "      <td>North York</td>\n",
       "      <td>Lawrence Manor, Lawrence Heights</td>\n",
       "    </tr>\n",
       "    <tr>\n",
       "      <th>6</th>\n",
       "      <td>M7A</td>\n",
       "      <td>Downtown Toronto</td>\n",
       "      <td>Queen's Park, Ontario Provincial Government</td>\n",
       "    </tr>\n",
       "    <tr>\n",
       "      <th>7</th>\n",
       "      <td>M8A</td>\n",
       "      <td>Not assigned</td>\n",
       "      <td>NaN</td>\n",
       "    </tr>\n",
       "    <tr>\n",
       "      <th>8</th>\n",
       "      <td>M9A</td>\n",
       "      <td>Etobicoke</td>\n",
       "      <td>Islington Avenue</td>\n",
       "    </tr>\n",
       "    <tr>\n",
       "      <th>9</th>\n",
       "      <td>M1B</td>\n",
       "      <td>Scarborough</td>\n",
       "      <td>Malvern, Rouge</td>\n",
       "    </tr>\n",
       "    <tr>\n",
       "      <th>10</th>\n",
       "      <td>M2B</td>\n",
       "      <td>Not assigned</td>\n",
       "      <td>NaN</td>\n",
       "    </tr>\n",
       "    <tr>\n",
       "      <th>11</th>\n",
       "      <td>M3B</td>\n",
       "      <td>North York</td>\n",
       "      <td>Don Mills</td>\n",
       "    </tr>\n",
       "    <tr>\n",
       "      <th>12</th>\n",
       "      <td>M4B</td>\n",
       "      <td>East York</td>\n",
       "      <td>Parkview Hill, Woodbine Gardens</td>\n",
       "    </tr>\n",
       "    <tr>\n",
       "      <th>13</th>\n",
       "      <td>M5B</td>\n",
       "      <td>Downtown Toronto</td>\n",
       "      <td>Garden District, Ryerson</td>\n",
       "    </tr>\n",
       "    <tr>\n",
       "      <th>14</th>\n",
       "      <td>M6B</td>\n",
       "      <td>North York</td>\n",
       "      <td>Glencairn</td>\n",
       "    </tr>\n",
       "  </tbody>\n",
       "</table>\n",
       "</div>"
      ],
      "text/plain": [
       "   Postal Code           Borough                                 Neighborhood\n",
       "0          M1A      Not assigned                                          NaN\n",
       "1          M2A      Not assigned                                          NaN\n",
       "2          M3A        North York                                    Parkwoods\n",
       "3          M4A        North York                             Victoria Village\n",
       "4          M5A  Downtown Toronto                    Regent Park, Harbourfront\n",
       "5          M6A        North York             Lawrence Manor, Lawrence Heights\n",
       "6          M7A  Downtown Toronto  Queen's Park, Ontario Provincial Government\n",
       "7          M8A      Not assigned                                          NaN\n",
       "8          M9A         Etobicoke                             Islington Avenue\n",
       "9          M1B       Scarborough                               Malvern, Rouge\n",
       "10         M2B      Not assigned                                          NaN\n",
       "11         M3B        North York                                    Don Mills\n",
       "12         M4B         East York              Parkview Hill, Woodbine Gardens\n",
       "13         M5B  Downtown Toronto                     Garden District, Ryerson\n",
       "14         M6B        North York                                    Glencairn"
      ]
     },
     "execution_count": 45,
     "metadata": {},
     "output_type": "execute_result"
    }
   ],
   "source": [
    "df1.head(15)"
   ]
  },
  {
   "cell_type": "code",
   "execution_count": 47,
   "metadata": {},
   "outputs": [
    {
     "data": {
      "text/plain": [
       "Postal Code      0\n",
       "Borough          0\n",
       "Neighborhood    77\n",
       "dtype: int64"
      ]
     },
     "execution_count": 47,
     "metadata": {},
     "output_type": "execute_result"
    }
   ],
   "source": [
    "df1.isnull().sum()"
   ]
  },
  {
   "cell_type": "code",
   "execution_count": 48,
   "metadata": {},
   "outputs": [],
   "source": [
    "df1.dropna(inplace=True)"
   ]
  },
  {
   "cell_type": "code",
   "execution_count": 49,
   "metadata": {},
   "outputs": [
    {
     "data": {
      "text/plain": [
       "Postal Code     0\n",
       "Borough         0\n",
       "Neighborhood    0\n",
       "dtype: int64"
      ]
     },
     "execution_count": 49,
     "metadata": {},
     "output_type": "execute_result"
    }
   ],
   "source": [
    "df1.isnull().sum()"
   ]
  },
  {
   "cell_type": "code",
   "execution_count": 52,
   "metadata": {},
   "outputs": [
    {
     "data": {
      "text/plain": [
       "(103, 3)"
      ]
     },
     "execution_count": 52,
     "metadata": {},
     "output_type": "execute_result"
    }
   ],
   "source": [
    "df1.shape"
   ]
  },
  {
   "cell_type": "code",
   "execution_count": 55,
   "metadata": {},
   "outputs": [
    {
     "data": {
      "text/plain": [
       "<pandas.core.groupby.generic.DataFrameGroupBy object at 0x000001D64E3C62C8>"
      ]
     },
     "execution_count": 55,
     "metadata": {},
     "output_type": "execute_result"
    }
   ],
   "source": [
    "df1[['Neighborhood']].groupby(df1['Borough'])\n"
   ]
  },
  {
   "cell_type": "code",
   "execution_count": 57,
   "metadata": {},
   "outputs": [
    {
     "data": {
      "text/html": [
       "<div>\n",
       "<style scoped>\n",
       "    .dataframe tbody tr th:only-of-type {\n",
       "        vertical-align: middle;\n",
       "    }\n",
       "\n",
       "    .dataframe tbody tr th {\n",
       "        vertical-align: top;\n",
       "    }\n",
       "\n",
       "    .dataframe thead th {\n",
       "        text-align: right;\n",
       "    }\n",
       "</style>\n",
       "<table border=\"1\" class=\"dataframe\">\n",
       "  <thead>\n",
       "    <tr style=\"text-align: right;\">\n",
       "      <th></th>\n",
       "      <th>Postal Code</th>\n",
       "      <th>Borough</th>\n",
       "      <th>Neighborhood</th>\n",
       "    </tr>\n",
       "  </thead>\n",
       "  <tbody>\n",
       "    <tr>\n",
       "      <th>2</th>\n",
       "      <td>M3A</td>\n",
       "      <td>North York</td>\n",
       "      <td>Parkwoods</td>\n",
       "    </tr>\n",
       "    <tr>\n",
       "      <th>3</th>\n",
       "      <td>M4A</td>\n",
       "      <td>North York</td>\n",
       "      <td>Victoria Village</td>\n",
       "    </tr>\n",
       "    <tr>\n",
       "      <th>4</th>\n",
       "      <td>M5A</td>\n",
       "      <td>Downtown Toronto</td>\n",
       "      <td>Regent Park, Harbourfront</td>\n",
       "    </tr>\n",
       "    <tr>\n",
       "      <th>5</th>\n",
       "      <td>M6A</td>\n",
       "      <td>North York</td>\n",
       "      <td>Lawrence Manor, Lawrence Heights</td>\n",
       "    </tr>\n",
       "    <tr>\n",
       "      <th>6</th>\n",
       "      <td>M7A</td>\n",
       "      <td>Downtown Toronto</td>\n",
       "      <td>Queen's Park, Ontario Provincial Government</td>\n",
       "    </tr>\n",
       "    <tr>\n",
       "      <th>8</th>\n",
       "      <td>M9A</td>\n",
       "      <td>Etobicoke</td>\n",
       "      <td>Islington Avenue</td>\n",
       "    </tr>\n",
       "    <tr>\n",
       "      <th>9</th>\n",
       "      <td>M1B</td>\n",
       "      <td>Scarborough</td>\n",
       "      <td>Malvern, Rouge</td>\n",
       "    </tr>\n",
       "    <tr>\n",
       "      <th>11</th>\n",
       "      <td>M3B</td>\n",
       "      <td>North York</td>\n",
       "      <td>Don Mills</td>\n",
       "    </tr>\n",
       "    <tr>\n",
       "      <th>12</th>\n",
       "      <td>M4B</td>\n",
       "      <td>East York</td>\n",
       "      <td>Parkview Hill, Woodbine Gardens</td>\n",
       "    </tr>\n",
       "    <tr>\n",
       "      <th>13</th>\n",
       "      <td>M5B</td>\n",
       "      <td>Downtown Toronto</td>\n",
       "      <td>Garden District, Ryerson</td>\n",
       "    </tr>\n",
       "    <tr>\n",
       "      <th>14</th>\n",
       "      <td>M6B</td>\n",
       "      <td>North York</td>\n",
       "      <td>Glencairn</td>\n",
       "    </tr>\n",
       "    <tr>\n",
       "      <th>17</th>\n",
       "      <td>M9B</td>\n",
       "      <td>Etobicoke</td>\n",
       "      <td>West Deane Park, Princess Gardens, Martin Grov...</td>\n",
       "    </tr>\n",
       "    <tr>\n",
       "      <th>18</th>\n",
       "      <td>M1C</td>\n",
       "      <td>Scarborough</td>\n",
       "      <td>Rouge Hill, Port Union, Highland Creek</td>\n",
       "    </tr>\n",
       "    <tr>\n",
       "      <th>20</th>\n",
       "      <td>M3C</td>\n",
       "      <td>North York</td>\n",
       "      <td>Don Mills</td>\n",
       "    </tr>\n",
       "    <tr>\n",
       "      <th>21</th>\n",
       "      <td>M4C</td>\n",
       "      <td>East York</td>\n",
       "      <td>Woodbine Heights</td>\n",
       "    </tr>\n",
       "    <tr>\n",
       "      <th>22</th>\n",
       "      <td>M5C</td>\n",
       "      <td>Downtown Toronto</td>\n",
       "      <td>St. James Town</td>\n",
       "    </tr>\n",
       "    <tr>\n",
       "      <th>23</th>\n",
       "      <td>M6C</td>\n",
       "      <td>York</td>\n",
       "      <td>Humewood-Cedarvale</td>\n",
       "    </tr>\n",
       "    <tr>\n",
       "      <th>26</th>\n",
       "      <td>M9C</td>\n",
       "      <td>Etobicoke</td>\n",
       "      <td>Eringate, Bloordale Gardens, Old Burnhamthorpe...</td>\n",
       "    </tr>\n",
       "    <tr>\n",
       "      <th>27</th>\n",
       "      <td>M1E</td>\n",
       "      <td>Scarborough</td>\n",
       "      <td>Guildwood, Morningside, West Hill</td>\n",
       "    </tr>\n",
       "    <tr>\n",
       "      <th>30</th>\n",
       "      <td>M4E</td>\n",
       "      <td>East Toronto</td>\n",
       "      <td>The Beaches</td>\n",
       "    </tr>\n",
       "  </tbody>\n",
       "</table>\n",
       "</div>"
      ],
      "text/plain": [
       "   Postal Code           Borough  \\\n",
       "2          M3A        North York   \n",
       "3          M4A        North York   \n",
       "4          M5A  Downtown Toronto   \n",
       "5          M6A        North York   \n",
       "6          M7A  Downtown Toronto   \n",
       "8          M9A         Etobicoke   \n",
       "9          M1B       Scarborough   \n",
       "11         M3B        North York   \n",
       "12         M4B         East York   \n",
       "13         M5B  Downtown Toronto   \n",
       "14         M6B        North York   \n",
       "17         M9B         Etobicoke   \n",
       "18         M1C       Scarborough   \n",
       "20         M3C        North York   \n",
       "21         M4C         East York   \n",
       "22         M5C  Downtown Toronto   \n",
       "23         M6C              York   \n",
       "26         M9C         Etobicoke   \n",
       "27         M1E       Scarborough   \n",
       "30         M4E      East Toronto   \n",
       "\n",
       "                                         Neighborhood  \n",
       "2                                           Parkwoods  \n",
       "3                                    Victoria Village  \n",
       "4                           Regent Park, Harbourfront  \n",
       "5                    Lawrence Manor, Lawrence Heights  \n",
       "6         Queen's Park, Ontario Provincial Government  \n",
       "8                                    Islington Avenue  \n",
       "9                                      Malvern, Rouge  \n",
       "11                                          Don Mills  \n",
       "12                    Parkview Hill, Woodbine Gardens  \n",
       "13                           Garden District, Ryerson  \n",
       "14                                          Glencairn  \n",
       "17  West Deane Park, Princess Gardens, Martin Grov...  \n",
       "18             Rouge Hill, Port Union, Highland Creek  \n",
       "20                                          Don Mills  \n",
       "21                                   Woodbine Heights  \n",
       "22                                     St. James Town  \n",
       "23                                 Humewood-Cedarvale  \n",
       "26  Eringate, Bloordale Gardens, Old Burnhamthorpe...  \n",
       "27                  Guildwood, Morningside, West Hill  \n",
       "30                                        The Beaches  "
      ]
     },
     "execution_count": 57,
     "metadata": {},
     "output_type": "execute_result"
    }
   ],
   "source": [
    "df1.head(20)"
   ]
  },
  {
   "cell_type": "code",
   "execution_count": 60,
   "metadata": {},
   "outputs": [],
   "source": [
    "df1.reset_index(drop=True, inplace=True)"
   ]
  },
  {
   "cell_type": "code",
   "execution_count": 61,
   "metadata": {},
   "outputs": [
    {
     "data": {
      "text/html": [
       "<div>\n",
       "<style scoped>\n",
       "    .dataframe tbody tr th:only-of-type {\n",
       "        vertical-align: middle;\n",
       "    }\n",
       "\n",
       "    .dataframe tbody tr th {\n",
       "        vertical-align: top;\n",
       "    }\n",
       "\n",
       "    .dataframe thead th {\n",
       "        text-align: right;\n",
       "    }\n",
       "</style>\n",
       "<table border=\"1\" class=\"dataframe\">\n",
       "  <thead>\n",
       "    <tr style=\"text-align: right;\">\n",
       "      <th></th>\n",
       "      <th>Postal Code</th>\n",
       "      <th>Borough</th>\n",
       "      <th>Neighborhood</th>\n",
       "    </tr>\n",
       "  </thead>\n",
       "  <tbody>\n",
       "    <tr>\n",
       "      <th>0</th>\n",
       "      <td>M3A</td>\n",
       "      <td>North York</td>\n",
       "      <td>Parkwoods</td>\n",
       "    </tr>\n",
       "    <tr>\n",
       "      <th>1</th>\n",
       "      <td>M4A</td>\n",
       "      <td>North York</td>\n",
       "      <td>Victoria Village</td>\n",
       "    </tr>\n",
       "    <tr>\n",
       "      <th>2</th>\n",
       "      <td>M5A</td>\n",
       "      <td>Downtown Toronto</td>\n",
       "      <td>Regent Park, Harbourfront</td>\n",
       "    </tr>\n",
       "    <tr>\n",
       "      <th>3</th>\n",
       "      <td>M6A</td>\n",
       "      <td>North York</td>\n",
       "      <td>Lawrence Manor, Lawrence Heights</td>\n",
       "    </tr>\n",
       "    <tr>\n",
       "      <th>4</th>\n",
       "      <td>M7A</td>\n",
       "      <td>Downtown Toronto</td>\n",
       "      <td>Queen's Park, Ontario Provincial Government</td>\n",
       "    </tr>\n",
       "    <tr>\n",
       "      <th>5</th>\n",
       "      <td>M9A</td>\n",
       "      <td>Etobicoke</td>\n",
       "      <td>Islington Avenue</td>\n",
       "    </tr>\n",
       "    <tr>\n",
       "      <th>6</th>\n",
       "      <td>M1B</td>\n",
       "      <td>Scarborough</td>\n",
       "      <td>Malvern, Rouge</td>\n",
       "    </tr>\n",
       "    <tr>\n",
       "      <th>7</th>\n",
       "      <td>M3B</td>\n",
       "      <td>North York</td>\n",
       "      <td>Don Mills</td>\n",
       "    </tr>\n",
       "    <tr>\n",
       "      <th>8</th>\n",
       "      <td>M4B</td>\n",
       "      <td>East York</td>\n",
       "      <td>Parkview Hill, Woodbine Gardens</td>\n",
       "    </tr>\n",
       "    <tr>\n",
       "      <th>9</th>\n",
       "      <td>M5B</td>\n",
       "      <td>Downtown Toronto</td>\n",
       "      <td>Garden District, Ryerson</td>\n",
       "    </tr>\n",
       "    <tr>\n",
       "      <th>10</th>\n",
       "      <td>M6B</td>\n",
       "      <td>North York</td>\n",
       "      <td>Glencairn</td>\n",
       "    </tr>\n",
       "    <tr>\n",
       "      <th>11</th>\n",
       "      <td>M9B</td>\n",
       "      <td>Etobicoke</td>\n",
       "      <td>West Deane Park, Princess Gardens, Martin Grov...</td>\n",
       "    </tr>\n",
       "    <tr>\n",
       "      <th>12</th>\n",
       "      <td>M1C</td>\n",
       "      <td>Scarborough</td>\n",
       "      <td>Rouge Hill, Port Union, Highland Creek</td>\n",
       "    </tr>\n",
       "    <tr>\n",
       "      <th>13</th>\n",
       "      <td>M3C</td>\n",
       "      <td>North York</td>\n",
       "      <td>Don Mills</td>\n",
       "    </tr>\n",
       "    <tr>\n",
       "      <th>14</th>\n",
       "      <td>M4C</td>\n",
       "      <td>East York</td>\n",
       "      <td>Woodbine Heights</td>\n",
       "    </tr>\n",
       "    <tr>\n",
       "      <th>15</th>\n",
       "      <td>M5C</td>\n",
       "      <td>Downtown Toronto</td>\n",
       "      <td>St. James Town</td>\n",
       "    </tr>\n",
       "    <tr>\n",
       "      <th>16</th>\n",
       "      <td>M6C</td>\n",
       "      <td>York</td>\n",
       "      <td>Humewood-Cedarvale</td>\n",
       "    </tr>\n",
       "    <tr>\n",
       "      <th>17</th>\n",
       "      <td>M9C</td>\n",
       "      <td>Etobicoke</td>\n",
       "      <td>Eringate, Bloordale Gardens, Old Burnhamthorpe...</td>\n",
       "    </tr>\n",
       "    <tr>\n",
       "      <th>18</th>\n",
       "      <td>M1E</td>\n",
       "      <td>Scarborough</td>\n",
       "      <td>Guildwood, Morningside, West Hill</td>\n",
       "    </tr>\n",
       "    <tr>\n",
       "      <th>19</th>\n",
       "      <td>M4E</td>\n",
       "      <td>East Toronto</td>\n",
       "      <td>The Beaches</td>\n",
       "    </tr>\n",
       "  </tbody>\n",
       "</table>\n",
       "</div>"
      ],
      "text/plain": [
       "   Postal Code           Borough  \\\n",
       "0          M3A        North York   \n",
       "1          M4A        North York   \n",
       "2          M5A  Downtown Toronto   \n",
       "3          M6A        North York   \n",
       "4          M7A  Downtown Toronto   \n",
       "5          M9A         Etobicoke   \n",
       "6          M1B       Scarborough   \n",
       "7          M3B        North York   \n",
       "8          M4B         East York   \n",
       "9          M5B  Downtown Toronto   \n",
       "10         M6B        North York   \n",
       "11         M9B         Etobicoke   \n",
       "12         M1C       Scarborough   \n",
       "13         M3C        North York   \n",
       "14         M4C         East York   \n",
       "15         M5C  Downtown Toronto   \n",
       "16         M6C              York   \n",
       "17         M9C         Etobicoke   \n",
       "18         M1E       Scarborough   \n",
       "19         M4E      East Toronto   \n",
       "\n",
       "                                         Neighborhood  \n",
       "0                                           Parkwoods  \n",
       "1                                    Victoria Village  \n",
       "2                           Regent Park, Harbourfront  \n",
       "3                    Lawrence Manor, Lawrence Heights  \n",
       "4         Queen's Park, Ontario Provincial Government  \n",
       "5                                    Islington Avenue  \n",
       "6                                      Malvern, Rouge  \n",
       "7                                           Don Mills  \n",
       "8                     Parkview Hill, Woodbine Gardens  \n",
       "9                            Garden District, Ryerson  \n",
       "10                                          Glencairn  \n",
       "11  West Deane Park, Princess Gardens, Martin Grov...  \n",
       "12             Rouge Hill, Port Union, Highland Creek  \n",
       "13                                          Don Mills  \n",
       "14                                   Woodbine Heights  \n",
       "15                                     St. James Town  \n",
       "16                                 Humewood-Cedarvale  \n",
       "17  Eringate, Bloordale Gardens, Old Burnhamthorpe...  \n",
       "18                  Guildwood, Morningside, West Hill  \n",
       "19                                        The Beaches  "
      ]
     },
     "execution_count": 61,
     "metadata": {},
     "output_type": "execute_result"
    }
   ],
   "source": [
    "df1.head(20)"
   ]
  },
  {
   "cell_type": "code",
   "execution_count": null,
   "metadata": {},
   "outputs": [],
   "source": []
  }
 ],
 "metadata": {
  "kernelspec": {
   "display_name": "Python 3",
   "language": "python",
   "name": "python3"
  },
  "language_info": {
   "codemirror_mode": {
    "name": "ipython",
    "version": 3
   },
   "file_extension": ".py",
   "mimetype": "text/x-python",
   "name": "python",
   "nbconvert_exporter": "python",
   "pygments_lexer": "ipython3",
   "version": "3.7.6"
  }
 },
 "nbformat": 4,
 "nbformat_minor": 4
}
