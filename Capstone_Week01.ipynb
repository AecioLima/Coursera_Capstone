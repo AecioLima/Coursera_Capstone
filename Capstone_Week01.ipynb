{
  "nbformat": 4,
  "nbformat_minor": 0,
  "metadata": {
    "kernelspec": {
      "display_name": "Python 3",
      "language": "python",
      "name": "python3"
    },
    "language_info": {
      "codemirror_mode": {
        "name": "ipython",
        "version": 3
      },
      "file_extension": ".py",
      "mimetype": "text/x-python",
      "name": "python",
      "nbconvert_exporter": "python",
      "pygments_lexer": "ipython3",
      "version": "3.7.6"
    },
    "colab": {
      "name": "Capstone_Week01.ipynb",
      "provenance": [],
      "collapsed_sections": [],
      "include_colab_link": true
    }
  },
  "cells": [
    {
      "cell_type": "markdown",
      "metadata": {
        "id": "view-in-github",
        "colab_type": "text"
      },
      "source": [
        "<a href=\"https://colab.research.google.com/github/AecioLima/Coursera_Capstone/blob/master/Capstone_Week01.ipynb\" target=\"_parent\"><img src=\"https://colab.research.google.com/assets/colab-badge.svg\" alt=\"Open In Colab\"/></a>"
      ]
    },
    {
      "cell_type": "markdown",
      "metadata": {
        "id": "qvFt67ZeE8_u",
        "colab_type": "text"
      },
      "source": [
        "### Part 1\n",
        "#### A description of the problem and a discussion of the background. (15 marks)\n",
        "\n",
        "\n",
        "Clearly define a problem or an idea of your choice, where you would need to leverage the Foursquare location data to solve or execute. Remember that data science problems always target an audience and are meant to help a group of stakeholders solve a problem, so make sure that you explicitly describe your audience and why they would care about your problem.\n",
        "\n",
        "This submission will eventually become your Introduction/Business Problem section in your final report. So I recommend that you push the report (having your Introduction/Business Problem section only for now) to your Github repository and submit a link to it.\n",
        "\n",
        "### Part 2\n",
        "####  A description of the data and how it will be used to solve the problem. (15 marks)\n",
        "\n",
        "\n",
        "Describe the data that you will be using to solve the problem or execute your idea. Remember that you will need to use the Foursquare location data to solve the problem or execute your idea. You can absolutely use other datasets in combination with the Foursquare location data. So make sure that you provide adequate explanation and discussion, with examples, of the data that you will be using, even if it is only Foursquare location data.\n",
        "\n",
        "This submission will eventually become your Data section in your final report. So I recommend that you push the report (having your Data section) to your Github repository and submit a link to it."
      ]
    },
    {
      "cell_type": "markdown",
      "metadata": {
        "id": "kv0h3VqNE8_v",
        "colab_type": "text"
      },
      "source": [
        "# Part 1 (Problem):\n",
        "Where in Rio de Janeiro would it be best to open a restaurant. What is the place that has the most reviews, what location seems to be the most popular. Is there a type of restaurant that is more popular than another? \n",
        "\n",
        "The problem will be solved using the Foursquare API, looking at the usercount and tipcount. This problem will help everyone that wants to open up a restaurant in Rio de Janeiro and wants to know if it is a viable option where they intend on opening."
      ]
    },
    {
      "cell_type": "markdown",
      "metadata": {
        "id": "DWR1loSXE8_w",
        "colab_type": "text"
      },
      "source": [
        "# Part 2 (Data):\n",
        "The data that will be used is Foursquare data for Rio de Janeiro city. It will focus on venues of restaurant type. The popularity will be an indicator for how good an area is for a restaurant. "
      ]
    },
    {
      "cell_type": "code",
      "metadata": {
        "id": "KvWE3MnmGDUx",
        "colab_type": "code",
        "colab": {
          "base_uri": "https://localhost:8080/",
          "height": 204
        },
        "outputId": "72a91f72-3bbb-4ba7-cec5-05efa0f7450a"
      },
      "source": [
        "!pip install folium"
      ],
      "execution_count": 11,
      "outputs": [
        {
          "output_type": "stream",
          "text": [
            "Requirement already satisfied: folium in /usr/local/lib/python3.6/dist-packages (0.8.3)\n",
            "Requirement already satisfied: six in /usr/local/lib/python3.6/dist-packages (from folium) (1.12.0)\n",
            "Requirement already satisfied: numpy in /usr/local/lib/python3.6/dist-packages (from folium) (1.18.4)\n",
            "Requirement already satisfied: requests in /usr/local/lib/python3.6/dist-packages (from folium) (2.23.0)\n",
            "Requirement already satisfied: jinja2 in /usr/local/lib/python3.6/dist-packages (from folium) (2.11.2)\n",
            "Requirement already satisfied: branca>=0.3.0 in /usr/local/lib/python3.6/dist-packages (from folium) (0.4.1)\n",
            "Requirement already satisfied: certifi>=2017.4.17 in /usr/local/lib/python3.6/dist-packages (from requests->folium) (2020.4.5.1)\n",
            "Requirement already satisfied: urllib3!=1.25.0,!=1.25.1,<1.26,>=1.21.1 in /usr/local/lib/python3.6/dist-packages (from requests->folium) (1.24.3)\n",
            "Requirement already satisfied: idna<3,>=2.5 in /usr/local/lib/python3.6/dist-packages (from requests->folium) (2.9)\n",
            "Requirement already satisfied: chardet<4,>=3.0.2 in /usr/local/lib/python3.6/dist-packages (from requests->folium) (3.0.4)\n",
            "Requirement already satisfied: MarkupSafe>=0.23 in /usr/local/lib/python3.6/dist-packages (from jinja2->folium) (1.1.1)\n"
          ],
          "name": "stdout"
        }
      ]
    },
    {
      "cell_type": "code",
      "metadata": {
        "id": "nQDbot9fE8_y",
        "colab_type": "code",
        "colab": {
          "base_uri": "https://localhost:8080/",
          "height": 34
        },
        "outputId": "385afedc-6643-4f72-aef6-40e6b0f70403"
      },
      "source": [
        "import numpy as np # library to handle data in a vectorized manner\n",
        "\n",
        "import pandas as pd # library for data analsysis\n",
        "pd.set_option('display.max_columns', None)\n",
        "pd.set_option('display.max_rows', None)\n",
        "\n",
        "import json # library to handle JSON files\n",
        "\n",
        "#!conda install -c conda-forge geopy --yes # uncomment this line if you haven't completed the Foursquare API lab\n",
        "from geopy.geocoders import Nominatim # convert an address into latitude and longitude values\n",
        "\n",
        "import requests # library to handle requests\n",
        "from pandas.io.json import json_normalize # tranform JSON file into a pandas dataframe\n",
        "\n",
        "# Matplotlib and associated plotting modules\n",
        "import matplotlib.cm as cm\n",
        "import matplotlib.colors as colors\n",
        "\n",
        "# import k-means from clustering stage\n",
        "from sklearn.cluster import KMeans\n",
        "\n",
        "#!conda install -c conda-forge folium=0.5.0 --yes # uncomment this line if you haven't completed the Foursquare API lab\n",
        "import folium # map rendering library\n",
        "\n",
        "print('Libraries imported.')"
      ],
      "execution_count": 12,
      "outputs": [
        {
          "output_type": "stream",
          "text": [
            "Libraries imported.\n"
          ],
          "name": "stdout"
        }
      ]
    },
    {
      "cell_type": "code",
      "metadata": {
        "id": "z7Z7_NxaE8_7",
        "colab_type": "code",
        "colab": {
          "base_uri": "https://localhost:8080/",
          "height": 34
        },
        "outputId": "b62abbc5-6247-4b05-bc64-89f5a6fa9b75"
      },
      "source": [
        "# Get longitude and latitude for Rio de Janeiro\n",
        "address = 'Rio de Janeiro City, RJ'\n",
        "\n",
        "geolocator = Nominatim(user_agent=\"rio_explorer\")\n",
        "location = geolocator.geocode(address)\n",
        "latitude = location.latitude\n",
        "longitude = location.longitude\n",
        "print('The geograpical coordinate of Rio de Janeiro is {}, {}.'.format(latitude, longitude))\n",
        "#Tip: When you receive latitude and longitude, confirm on Google Maps that it is Ok!"
      ],
      "execution_count": 24,
      "outputs": [
        {
          "output_type": "stream",
          "text": [
            "The geograpical coordinate of Rio de Janeiro is -22.9110137, -43.2093727.\n"
          ],
          "name": "stdout"
        }
      ]
    },
    {
      "cell_type": "code",
      "metadata": {
        "id": "gPVbf8CwE8_-",
        "colab_type": "code",
        "colab": {
          "base_uri": "https://localhost:8080/",
          "height": 68
        },
        "outputId": "4173b193-3bde-48da-bc71-b70e4c44c47b"
      },
      "source": [
        "# Set up Foursquare\n",
        "CLIENT_ID = '@@@@@@@@@@@@@@@@@@@@@@@@@@@@@@@@@@@' # your Foursquare ID\n",
        "CLIENT_SECRET = '$$$$$$$$$$$$$$$$$$$$$$$$$$$$$$$$' # your Foursquare Secret\n",
        "VERSION = '20180605' # Foursquare API version\n",
        "LIMIT = 100\n",
        "print('Your credentails:')\n",
        "print('CLIENT_ID: ' + CLIENT_ID)\n",
        "print('CLIENT_SECRET:' + CLIENT_SECRET)"
      ],
      "execution_count": 25,
      "outputs": [
        {
          "output_type": "stream",
          "text": [
            "Your credentails:\n",
            "CLIENT_ID: FA5FHB2LBHLAJO33DYUEXON24QS1DMU51GLBWVSEBQLMO12W\n",
            "CLIENT_SECRET:23I4WBC4QWRUM1HNZAJBQFXCMVRQE15XBFDNP0SSET4WRR1Q\n"
          ],
          "name": "stdout"
        }
      ]
    },
    {
      "cell_type": "code",
      "metadata": {
        "id": "Qj_IjY_uE9AC",
        "colab_type": "code",
        "colab": {
          "base_uri": "https://localhost:8080/",
          "height": 34
        },
        "outputId": "8458d396-2e46-43b1-c9a8-19a583b92cec"
      },
      "source": [
        "search_query = 'Restaurant'\n",
        "radius = 50000\n",
        "print(search_query + ' .... OK!')"
      ],
      "execution_count": 26,
      "outputs": [
        {
          "output_type": "stream",
          "text": [
            "Restaurant .... OK!\n"
          ],
          "name": "stdout"
        }
      ]
    },
    {
      "cell_type": "code",
      "metadata": {
        "id": "MA7WEi3mE9AI",
        "colab_type": "code",
        "colab": {
          "base_uri": "https://localhost:8080/",
          "height": 54
        },
        "outputId": "1bad66e6-5e78-457b-dc37-fdc64a2d834b"
      },
      "source": [
        "url = 'https://api.foursquare.com/v2/venues/search?client_id={}&client_secret={}&ll={},{}&v={}&query={}&radius={}&limit={}'.format(CLIENT_ID, CLIENT_SECRET, latitude, longitude, VERSION, search_query, radius, LIMIT)\n",
        "url"
      ],
      "execution_count": 27,
      "outputs": [
        {
          "output_type": "execute_result",
          "data": {
            "text/plain": [
              "'https://api.foursquare.com/v2/venues/search?client_id=FA5FHB2LBHLAJO33DYUEXON24QS1DMU51GLBWVSEBQLMO12W&client_secret=23I4WBC4QWRUM1HNZAJBQFXCMVRQE15XBFDNP0SSET4WRR1Q&ll=-22.9110137,-43.2093727&v=20180605&query=Restaurant&radius=50000&limit=100'"
            ]
          },
          "metadata": {
            "tags": []
          },
          "execution_count": 27
        }
      ]
    },
    {
      "cell_type": "code",
      "metadata": {
        "id": "1DRkayLoE9AN",
        "colab_type": "code",
        "colab": {}
      },
      "source": [
        "results = requests.get(url).json()"
      ],
      "execution_count": 0,
      "outputs": []
    },
    {
      "cell_type": "code",
      "metadata": {
        "id": "EMyogmr7E9AR",
        "colab_type": "code",
        "colab": {
          "base_uri": "https://localhost:8080/",
          "height": 428
        },
        "outputId": "f341e821-8e7a-4dde-e69e-37843281240f"
      },
      "source": [
        "# assign relevant part of JSON to venues\n",
        "venues = results['response']['venues']\n",
        "\n",
        "# tranform venues into a dataframe\n",
        "dataframe = json_normalize(venues)\n",
        "dataframe.head()"
      ],
      "execution_count": 29,
      "outputs": [
        {
          "output_type": "stream",
          "text": [
            "/usr/local/lib/python3.6/dist-packages/ipykernel_launcher.py:5: FutureWarning: pandas.io.json.json_normalize is deprecated, use pandas.json_normalize instead\n",
            "  \"\"\"\n"
          ],
          "name": "stderr"
        },
        {
          "output_type": "execute_result",
          "data": {
            "text/html": [
              "<div>\n",
              "<style scoped>\n",
              "    .dataframe tbody tr th:only-of-type {\n",
              "        vertical-align: middle;\n",
              "    }\n",
              "\n",
              "    .dataframe tbody tr th {\n",
              "        vertical-align: top;\n",
              "    }\n",
              "\n",
              "    .dataframe thead th {\n",
              "        text-align: right;\n",
              "    }\n",
              "</style>\n",
              "<table border=\"1\" class=\"dataframe\">\n",
              "  <thead>\n",
              "    <tr style=\"text-align: right;\">\n",
              "      <th></th>\n",
              "      <th>id</th>\n",
              "      <th>name</th>\n",
              "      <th>categories</th>\n",
              "      <th>referralId</th>\n",
              "      <th>hasPerk</th>\n",
              "      <th>location.address</th>\n",
              "      <th>location.lat</th>\n",
              "      <th>location.lng</th>\n",
              "      <th>location.labeledLatLngs</th>\n",
              "      <th>location.distance</th>\n",
              "      <th>location.cc</th>\n",
              "      <th>location.city</th>\n",
              "      <th>location.state</th>\n",
              "      <th>location.country</th>\n",
              "      <th>location.formattedAddress</th>\n",
              "      <th>location.crossStreet</th>\n",
              "      <th>location.postalCode</th>\n",
              "    </tr>\n",
              "  </thead>\n",
              "  <tbody>\n",
              "    <tr>\n",
              "      <th>0</th>\n",
              "      <td>56e04e1d38fa3ae11155b863</td>\n",
              "      <td>Riá Restaurant</td>\n",
              "      <td>[{'id': '52e81612bcbc57f1066b79f1', 'name': 'B...</td>\n",
              "      <td>v-1590012603</td>\n",
              "      <td>False</td>\n",
              "      <td>Rua Riachuelo, 242</td>\n",
              "      <td>-22.914733</td>\n",
              "      <td>-43.188829</td>\n",
              "      <td>[{'label': 'display', 'lat': -22.914733, 'lng'...</td>\n",
              "      <td>2146</td>\n",
              "      <td>BR</td>\n",
              "      <td>Rio de Janeiro</td>\n",
              "      <td>RJ</td>\n",
              "      <td>Brasil</td>\n",
              "      <td>[Rua Riachuelo, 242, Rio de Janeiro, RJ, Brasil]</td>\n",
              "      <td>NaN</td>\n",
              "      <td>NaN</td>\n",
              "    </tr>\n",
              "    <tr>\n",
              "      <th>1</th>\n",
              "      <td>4ece6782cc219860f521dd5d</td>\n",
              "      <td>Restaurante Pitada</td>\n",
              "      <td>[{'id': '4bf58dd8d48988d16b941735', 'name': 'B...</td>\n",
              "      <td>v-1590012603</td>\n",
              "      <td>False</td>\n",
              "      <td>NaN</td>\n",
              "      <td>-22.909734</td>\n",
              "      <td>-43.191598</td>\n",
              "      <td>[{'label': 'display', 'lat': -22.9097338088607...</td>\n",
              "      <td>1828</td>\n",
              "      <td>BR</td>\n",
              "      <td>Rio de Janeiro</td>\n",
              "      <td>RJ</td>\n",
              "      <td>Brasil</td>\n",
              "      <td>[Rio de Janeiro, RJ, Brasil]</td>\n",
              "      <td>NaN</td>\n",
              "      <td>NaN</td>\n",
              "    </tr>\n",
              "    <tr>\n",
              "      <th>2</th>\n",
              "      <td>50e0b634e4b0f94bd8a38f47</td>\n",
              "      <td>Restaurant El Duero</td>\n",
              "      <td>[{'id': '4bf58dd8d48988d1c4941735', 'name': 'R...</td>\n",
              "      <td>v-1590012603</td>\n",
              "      <td>False</td>\n",
              "      <td>Navio Soberano</td>\n",
              "      <td>-22.892851</td>\n",
              "      <td>-43.189795</td>\n",
              "      <td>[{'label': 'display', 'lat': -22.8928508209919...</td>\n",
              "      <td>2849</td>\n",
              "      <td>BR</td>\n",
              "      <td>Rio de Janeiro</td>\n",
              "      <td>RJ</td>\n",
              "      <td>Brasil</td>\n",
              "      <td>[Navio Soberano, Rio de Janeiro, RJ, Brasil]</td>\n",
              "      <td>NaN</td>\n",
              "      <td>NaN</td>\n",
              "    </tr>\n",
              "    <tr>\n",
              "      <th>3</th>\n",
              "      <td>4e0209e4b0fbdf39a4592821</td>\n",
              "      <td>Restaurante Braga</td>\n",
              "      <td>[{'id': '4bf58dd8d48988d1c4941735', 'name': 'R...</td>\n",
              "      <td>v-1590012603</td>\n",
              "      <td>False</td>\n",
              "      <td>Silva paulet esquina com costa barros</td>\n",
              "      <td>-22.914891</td>\n",
              "      <td>-43.209306</td>\n",
              "      <td>[{'label': 'display', 'lat': -22.9148909, 'lng...</td>\n",
              "      <td>431</td>\n",
              "      <td>BR</td>\n",
              "      <td>Fortaleza</td>\n",
              "      <td>Ce</td>\n",
              "      <td>Brasil</td>\n",
              "      <td>[Silva paulet esquina com costa barros (Aldeot...</td>\n",
              "      <td>Aldeota</td>\n",
              "      <td>NaN</td>\n",
              "    </tr>\n",
              "    <tr>\n",
              "      <th>4</th>\n",
              "      <td>54fc90bc498e67112301efff</td>\n",
              "      <td>Restaurante Drink's</td>\n",
              "      <td>[{'id': '52e81612bcbc57f1066b7a00', 'name': 'C...</td>\n",
              "      <td>v-1590012603</td>\n",
              "      <td>False</td>\n",
              "      <td>Travessa Angustura</td>\n",
              "      <td>-22.913848</td>\n",
              "      <td>-43.213167</td>\n",
              "      <td>[{'label': 'display', 'lat': -22.9138483642793...</td>\n",
              "      <td>500</td>\n",
              "      <td>BR</td>\n",
              "      <td>Rio de Janeiro</td>\n",
              "      <td>RJ</td>\n",
              "      <td>Brasil</td>\n",
              "      <td>[Travessa Angustura (Rua do Matoso), Rio de Ja...</td>\n",
              "      <td>Rua do Matoso</td>\n",
              "      <td>NaN</td>\n",
              "    </tr>\n",
              "  </tbody>\n",
              "</table>\n",
              "</div>"
            ],
            "text/plain": [
              "                         id                 name  \\\n",
              "0  56e04e1d38fa3ae11155b863       Riá Restaurant   \n",
              "1  4ece6782cc219860f521dd5d   Restaurante Pitada   \n",
              "2  50e0b634e4b0f94bd8a38f47  Restaurant El Duero   \n",
              "3  4e0209e4b0fbdf39a4592821    Restaurante Braga   \n",
              "4  54fc90bc498e67112301efff  Restaurante Drink's   \n",
              "\n",
              "                                          categories    referralId  hasPerk  \\\n",
              "0  [{'id': '52e81612bcbc57f1066b79f1', 'name': 'B...  v-1590012603    False   \n",
              "1  [{'id': '4bf58dd8d48988d16b941735', 'name': 'B...  v-1590012603    False   \n",
              "2  [{'id': '4bf58dd8d48988d1c4941735', 'name': 'R...  v-1590012603    False   \n",
              "3  [{'id': '4bf58dd8d48988d1c4941735', 'name': 'R...  v-1590012603    False   \n",
              "4  [{'id': '52e81612bcbc57f1066b7a00', 'name': 'C...  v-1590012603    False   \n",
              "\n",
              "                        location.address  location.lat  location.lng  \\\n",
              "0                     Rua Riachuelo, 242    -22.914733    -43.188829   \n",
              "1                                    NaN    -22.909734    -43.191598   \n",
              "2                         Navio Soberano    -22.892851    -43.189795   \n",
              "3  Silva paulet esquina com costa barros    -22.914891    -43.209306   \n",
              "4                     Travessa Angustura    -22.913848    -43.213167   \n",
              "\n",
              "                             location.labeledLatLngs  location.distance  \\\n",
              "0  [{'label': 'display', 'lat': -22.914733, 'lng'...               2146   \n",
              "1  [{'label': 'display', 'lat': -22.9097338088607...               1828   \n",
              "2  [{'label': 'display', 'lat': -22.8928508209919...               2849   \n",
              "3  [{'label': 'display', 'lat': -22.9148909, 'lng...                431   \n",
              "4  [{'label': 'display', 'lat': -22.9138483642793...                500   \n",
              "\n",
              "  location.cc   location.city location.state location.country  \\\n",
              "0          BR  Rio de Janeiro             RJ           Brasil   \n",
              "1          BR  Rio de Janeiro             RJ           Brasil   \n",
              "2          BR  Rio de Janeiro             RJ           Brasil   \n",
              "3          BR       Fortaleza             Ce           Brasil   \n",
              "4          BR  Rio de Janeiro             RJ           Brasil   \n",
              "\n",
              "                           location.formattedAddress location.crossStreet  \\\n",
              "0   [Rua Riachuelo, 242, Rio de Janeiro, RJ, Brasil]                  NaN   \n",
              "1                       [Rio de Janeiro, RJ, Brasil]                  NaN   \n",
              "2       [Navio Soberano, Rio de Janeiro, RJ, Brasil]                  NaN   \n",
              "3  [Silva paulet esquina com costa barros (Aldeot...              Aldeota   \n",
              "4  [Travessa Angustura (Rua do Matoso), Rio de Ja...        Rua do Matoso   \n",
              "\n",
              "  location.postalCode  \n",
              "0                 NaN  \n",
              "1                 NaN  \n",
              "2                 NaN  \n",
              "3                 NaN  \n",
              "4                 NaN  "
            ]
          },
          "metadata": {
            "tags": []
          },
          "execution_count": 29
        }
      ]
    },
    {
      "cell_type": "code",
      "metadata": {
        "id": "XVPitD8eE9AU",
        "colab_type": "code",
        "colab": {
          "base_uri": "https://localhost:8080/",
          "height": 428
        },
        "outputId": "5b446ec8-7806-44ad-952e-90af0dd293b6"
      },
      "source": [
        "# keep only columns that include venue name, and anything that is associated with location\n",
        "filtered_columns = ['name', 'categories'] + [col for col in dataframe.columns if col.startswith('location.')] + ['id']\n",
        "dataframe_filtered = dataframe.loc[:, filtered_columns]\n",
        "\n",
        "# function that extracts the category of the venue\n",
        "def get_category_type(row):\n",
        "    try:\n",
        "        categories_list = row['categories']\n",
        "    except:\n",
        "        categories_list = row['venue.categories']\n",
        "        \n",
        "    if len(categories_list) == 0:\n",
        "        return None\n",
        "    else:\n",
        "        return categories_list[0]['name']\n",
        "\n",
        "# filter the category for each row\n",
        "dataframe_filtered['categories'] = dataframe_filtered.apply(get_category_type, axis=1)\n",
        "\n",
        "# clean column names by keeping only last term\n",
        "dataframe_filtered.columns = [column.split('.')[-1] for column in dataframe_filtered.columns]\n",
        "\n",
        "dataframe_filtered.head()"
      ],
      "execution_count": 30,
      "outputs": [
        {
          "output_type": "execute_result",
          "data": {
            "text/html": [
              "<div>\n",
              "<style scoped>\n",
              "    .dataframe tbody tr th:only-of-type {\n",
              "        vertical-align: middle;\n",
              "    }\n",
              "\n",
              "    .dataframe tbody tr th {\n",
              "        vertical-align: top;\n",
              "    }\n",
              "\n",
              "    .dataframe thead th {\n",
              "        text-align: right;\n",
              "    }\n",
              "</style>\n",
              "<table border=\"1\" class=\"dataframe\">\n",
              "  <thead>\n",
              "    <tr style=\"text-align: right;\">\n",
              "      <th></th>\n",
              "      <th>name</th>\n",
              "      <th>categories</th>\n",
              "      <th>address</th>\n",
              "      <th>lat</th>\n",
              "      <th>lng</th>\n",
              "      <th>labeledLatLngs</th>\n",
              "      <th>distance</th>\n",
              "      <th>cc</th>\n",
              "      <th>city</th>\n",
              "      <th>state</th>\n",
              "      <th>country</th>\n",
              "      <th>formattedAddress</th>\n",
              "      <th>crossStreet</th>\n",
              "      <th>postalCode</th>\n",
              "      <th>id</th>\n",
              "    </tr>\n",
              "  </thead>\n",
              "  <tbody>\n",
              "    <tr>\n",
              "      <th>0</th>\n",
              "      <td>Riá Restaurant</td>\n",
              "      <td>Bistro</td>\n",
              "      <td>Rua Riachuelo, 242</td>\n",
              "      <td>-22.914733</td>\n",
              "      <td>-43.188829</td>\n",
              "      <td>[{'label': 'display', 'lat': -22.914733, 'lng'...</td>\n",
              "      <td>2146</td>\n",
              "      <td>BR</td>\n",
              "      <td>Rio de Janeiro</td>\n",
              "      <td>RJ</td>\n",
              "      <td>Brasil</td>\n",
              "      <td>[Rua Riachuelo, 242, Rio de Janeiro, RJ, Brasil]</td>\n",
              "      <td>NaN</td>\n",
              "      <td>NaN</td>\n",
              "      <td>56e04e1d38fa3ae11155b863</td>\n",
              "    </tr>\n",
              "    <tr>\n",
              "      <th>1</th>\n",
              "      <td>Restaurante Pitada</td>\n",
              "      <td>Brazilian Restaurant</td>\n",
              "      <td>NaN</td>\n",
              "      <td>-22.909734</td>\n",
              "      <td>-43.191598</td>\n",
              "      <td>[{'label': 'display', 'lat': -22.9097338088607...</td>\n",
              "      <td>1828</td>\n",
              "      <td>BR</td>\n",
              "      <td>Rio de Janeiro</td>\n",
              "      <td>RJ</td>\n",
              "      <td>Brasil</td>\n",
              "      <td>[Rio de Janeiro, RJ, Brasil]</td>\n",
              "      <td>NaN</td>\n",
              "      <td>NaN</td>\n",
              "      <td>4ece6782cc219860f521dd5d</td>\n",
              "    </tr>\n",
              "    <tr>\n",
              "      <th>2</th>\n",
              "      <td>Restaurant El Duero</td>\n",
              "      <td>Restaurant</td>\n",
              "      <td>Navio Soberano</td>\n",
              "      <td>-22.892851</td>\n",
              "      <td>-43.189795</td>\n",
              "      <td>[{'label': 'display', 'lat': -22.8928508209919...</td>\n",
              "      <td>2849</td>\n",
              "      <td>BR</td>\n",
              "      <td>Rio de Janeiro</td>\n",
              "      <td>RJ</td>\n",
              "      <td>Brasil</td>\n",
              "      <td>[Navio Soberano, Rio de Janeiro, RJ, Brasil]</td>\n",
              "      <td>NaN</td>\n",
              "      <td>NaN</td>\n",
              "      <td>50e0b634e4b0f94bd8a38f47</td>\n",
              "    </tr>\n",
              "    <tr>\n",
              "      <th>3</th>\n",
              "      <td>Restaurante Braga</td>\n",
              "      <td>Restaurant</td>\n",
              "      <td>Silva paulet esquina com costa barros</td>\n",
              "      <td>-22.914891</td>\n",
              "      <td>-43.209306</td>\n",
              "      <td>[{'label': 'display', 'lat': -22.9148909, 'lng...</td>\n",
              "      <td>431</td>\n",
              "      <td>BR</td>\n",
              "      <td>Fortaleza</td>\n",
              "      <td>Ce</td>\n",
              "      <td>Brasil</td>\n",
              "      <td>[Silva paulet esquina com costa barros (Aldeot...</td>\n",
              "      <td>Aldeota</td>\n",
              "      <td>NaN</td>\n",
              "      <td>4e0209e4b0fbdf39a4592821</td>\n",
              "    </tr>\n",
              "    <tr>\n",
              "      <th>4</th>\n",
              "      <td>Restaurante Drink's</td>\n",
              "      <td>Comfort Food Restaurant</td>\n",
              "      <td>Travessa Angustura</td>\n",
              "      <td>-22.913848</td>\n",
              "      <td>-43.213167</td>\n",
              "      <td>[{'label': 'display', 'lat': -22.9138483642793...</td>\n",
              "      <td>500</td>\n",
              "      <td>BR</td>\n",
              "      <td>Rio de Janeiro</td>\n",
              "      <td>RJ</td>\n",
              "      <td>Brasil</td>\n",
              "      <td>[Travessa Angustura (Rua do Matoso), Rio de Ja...</td>\n",
              "      <td>Rua do Matoso</td>\n",
              "      <td>NaN</td>\n",
              "      <td>54fc90bc498e67112301efff</td>\n",
              "    </tr>\n",
              "  </tbody>\n",
              "</table>\n",
              "</div>"
            ],
            "text/plain": [
              "                  name               categories  \\\n",
              "0       Riá Restaurant                   Bistro   \n",
              "1   Restaurante Pitada     Brazilian Restaurant   \n",
              "2  Restaurant El Duero               Restaurant   \n",
              "3    Restaurante Braga               Restaurant   \n",
              "4  Restaurante Drink's  Comfort Food Restaurant   \n",
              "\n",
              "                                 address        lat        lng  \\\n",
              "0                     Rua Riachuelo, 242 -22.914733 -43.188829   \n",
              "1                                    NaN -22.909734 -43.191598   \n",
              "2                         Navio Soberano -22.892851 -43.189795   \n",
              "3  Silva paulet esquina com costa barros -22.914891 -43.209306   \n",
              "4                     Travessa Angustura -22.913848 -43.213167   \n",
              "\n",
              "                                      labeledLatLngs  distance  cc  \\\n",
              "0  [{'label': 'display', 'lat': -22.914733, 'lng'...      2146  BR   \n",
              "1  [{'label': 'display', 'lat': -22.9097338088607...      1828  BR   \n",
              "2  [{'label': 'display', 'lat': -22.8928508209919...      2849  BR   \n",
              "3  [{'label': 'display', 'lat': -22.9148909, 'lng...       431  BR   \n",
              "4  [{'label': 'display', 'lat': -22.9138483642793...       500  BR   \n",
              "\n",
              "             city state country  \\\n",
              "0  Rio de Janeiro    RJ  Brasil   \n",
              "1  Rio de Janeiro    RJ  Brasil   \n",
              "2  Rio de Janeiro    RJ  Brasil   \n",
              "3       Fortaleza    Ce  Brasil   \n",
              "4  Rio de Janeiro    RJ  Brasil   \n",
              "\n",
              "                                    formattedAddress    crossStreet  \\\n",
              "0   [Rua Riachuelo, 242, Rio de Janeiro, RJ, Brasil]            NaN   \n",
              "1                       [Rio de Janeiro, RJ, Brasil]            NaN   \n",
              "2       [Navio Soberano, Rio de Janeiro, RJ, Brasil]            NaN   \n",
              "3  [Silva paulet esquina com costa barros (Aldeot...        Aldeota   \n",
              "4  [Travessa Angustura (Rua do Matoso), Rio de Ja...  Rua do Matoso   \n",
              "\n",
              "  postalCode                        id  \n",
              "0        NaN  56e04e1d38fa3ae11155b863  \n",
              "1        NaN  4ece6782cc219860f521dd5d  \n",
              "2        NaN  50e0b634e4b0f94bd8a38f47  \n",
              "3        NaN  4e0209e4b0fbdf39a4592821  \n",
              "4        NaN  54fc90bc498e67112301efff  "
            ]
          },
          "metadata": {
            "tags": []
          },
          "execution_count": 30
        }
      ]
    },
    {
      "cell_type": "code",
      "metadata": {
        "id": "8VdxQZwRE9AX",
        "colab_type": "code",
        "colab": {
          "base_uri": "https://localhost:8080/",
          "height": 763
        },
        "outputId": "ac85a1dd-b038-4af1-fec9-446bf5578718"
      },
      "source": [
        "venues_map = folium.Map(location=[latitude, longitude], zoom_start=13) # generate map centred around the Conrad Hotel\n",
        "\n",
        "# add a red circle marker to represent the Conrad Hotel\n",
        "folium.CircleMarker(\n",
        "    [latitude, longitude],\n",
        "    radius=10,\n",
        "    color='red',\n",
        "    popup='Conrad Hotel',\n",
        "    fill = True,\n",
        "    fill_color = 'red',\n",
        "    fill_opacity = 0.6\n",
        ").add_to(venues_map)\n",
        "\n",
        "# add the Italian restaurants as blue circle markers\n",
        "for lat, lng, label in zip(dataframe_filtered.lat, dataframe_filtered.lng, dataframe_filtered.categories):\n",
        "    folium.CircleMarker(\n",
        "        [lat, lng],\n",
        "        radius=5,\n",
        "        color='blue',\n",
        "        popup=label,\n",
        "        fill = True,\n",
        "        fill_color='blue',\n",
        "        fill_opacity=0.6\n",
        "    ).add_to(venues_map)\n",
        "\n",
        "# display map\n",
        "venues_map"
      ],
      "execution_count": 31,
      "outputs": [
        {
          "output_type": "execute_result",
          "data": {
            "text/html": [
              "<div style=\"width:100%;\"><div style=\"position:relative;width:100%;height:0;padding-bottom:60%;\"><span style=\"color:#565656\">Make this Notebook Trusted to load map: File -> Trust Notebook</span><iframe src=\"about:blank\" style=\"position:absolute;width:100%;height:100%;left:0;top:0;border:none !important;\" data-html=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 onload=\"this.contentDocument.open();this.contentDocument.write(atob(this.getAttribute('data-html')));this.contentDocument.close();\" allowfullscreen webkitallowfullscreen mozallowfullscreen></iframe></div></div>"
            ],
            "text/plain": [
              "<folium.folium.Map at 0x7f384691e940>"
            ]
          },
          "metadata": {
            "tags": []
          },
          "execution_count": 31
        }
      ]
    },
    {
      "cell_type": "code",
      "metadata": {
        "id": "Z3n-xRGzE9Aa",
        "colab_type": "code",
        "colab": {}
      },
      "source": [
        ""
      ],
      "execution_count": 0,
      "outputs": []
    },
    {
      "cell_type": "code",
      "metadata": {
        "id": "yp_Il_UTE9Ad",
        "colab_type": "code",
        "colab": {}
      },
      "source": [
        ""
      ],
      "execution_count": 0,
      "outputs": []
    },
    {
      "cell_type": "code",
      "metadata": {
        "id": "3gDeT-toE9Ah",
        "colab_type": "code",
        "colab": {}
      },
      "source": [
        ""
      ],
      "execution_count": 0,
      "outputs": []
    },
    {
      "cell_type": "code",
      "metadata": {
        "id": "GuB5vrzVE9Al",
        "colab_type": "code",
        "colab": {}
      },
      "source": [
        ""
      ],
      "execution_count": 0,
      "outputs": []
    },
    {
      "cell_type": "code",
      "metadata": {
        "id": "SXaqb_G5E9Ao",
        "colab_type": "code",
        "colab": {}
      },
      "source": [
        ""
      ],
      "execution_count": 0,
      "outputs": []
    }
  ]
}